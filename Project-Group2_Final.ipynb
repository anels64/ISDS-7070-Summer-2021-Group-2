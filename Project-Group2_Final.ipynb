{
 "cells": [
  {
   "cell_type": "markdown",
   "metadata": {},
   "source": [
    "1.Sex / Race of the Applicants against Mortgage Approvals.We'll know whether one genger or race is preferred over the other or not. \n",
    "2.Type of loan against Mortgage Approvals.\n",
    "  Many loans are insured or guaranteed by government programs offered by Federal Housing Administration (FHA), the Department of Veterans Affairs (VA), or the Department of Agriculture's Rural Housing Service (RHS) or Farm Service Agency (FSA). All other loans are classified as conventional."
   ]
  },
  {
   "cell_type": "code",
   "execution_count": 63,
   "metadata": {},
   "outputs": [],
   "source": [
    "import pandas as pd\n",
    "import matplotlib.pyplot as plt\n",
    "from matplotlib import pyplot\n",
    "import seaborn as sns\n",
    "import re\n",
    "import numpy as np\n",
    "from sklearn import tree\n",
    "from sklearn.model_selection import train_test_split\n",
    "from sklearn import metrics\n",
    "%matplotlib inline\n",
    "from sklearn.ensemble import RandomForestRegressor\n",
    "from sklearn.metrics import mean_squared_error, r2_score"
   ]
  },
  {
   "cell_type": "code",
   "execution_count": 12,
   "metadata": {},
   "outputs": [
    {
     "data": {
      "text/html": [
       "<div>\n",
       "<style scoped>\n",
       "    .dataframe tbody tr th:only-of-type {\n",
       "        vertical-align: middle;\n",
       "    }\n",
       "\n",
       "    .dataframe tbody tr th {\n",
       "        vertical-align: top;\n",
       "    }\n",
       "\n",
       "    .dataframe thead th {\n",
       "        text-align: right;\n",
       "    }\n",
       "</style>\n",
       "<table border=\"1\" class=\"dataframe\">\n",
       "  <thead>\n",
       "    <tr style=\"text-align: right;\">\n",
       "      <th></th>\n",
       "      <th>tract_to_msamd_income</th>\n",
       "      <th>rate_spread</th>\n",
       "      <th>population</th>\n",
       "      <th>minority_population</th>\n",
       "      <th>number_of_owner_occupied_units</th>\n",
       "      <th>number_of_1_to_4_family_units</th>\n",
       "      <th>loan_amount_000s</th>\n",
       "      <th>hud_median_family_income</th>\n",
       "      <th>applicant_income_000s</th>\n",
       "      <th>state_name</th>\n",
       "      <th>...</th>\n",
       "      <th>applicant_sex_name</th>\n",
       "      <th>applicant_race_name_5</th>\n",
       "      <th>applicant_race_name_4</th>\n",
       "      <th>applicant_race_name_3</th>\n",
       "      <th>applicant_race_name_2</th>\n",
       "      <th>applicant_race_name_1</th>\n",
       "      <th>applicant_ethnicity_name</th>\n",
       "      <th>agency_name</th>\n",
       "      <th>agency_abbr</th>\n",
       "      <th>action_taken_name</th>\n",
       "    </tr>\n",
       "  </thead>\n",
       "  <tbody>\n",
       "    <tr>\n",
       "      <th>0</th>\n",
       "      <td>121.690002</td>\n",
       "      <td>NaN</td>\n",
       "      <td>8381.0</td>\n",
       "      <td>23.790001</td>\n",
       "      <td>2175.0</td>\n",
       "      <td>2660.0</td>\n",
       "      <td>227</td>\n",
       "      <td>73300.0</td>\n",
       "      <td>116.0</td>\n",
       "      <td>Washington</td>\n",
       "      <td>...</td>\n",
       "      <td>Female</td>\n",
       "      <td>NaN</td>\n",
       "      <td>NaN</td>\n",
       "      <td>NaN</td>\n",
       "      <td>NaN</td>\n",
       "      <td>Information not provided by applicant in mail,...</td>\n",
       "      <td>Not Hispanic or Latino</td>\n",
       "      <td>Consumer Financial Protection Bureau</td>\n",
       "      <td>CFPB</td>\n",
       "      <td>Loan originated</td>\n",
       "    </tr>\n",
       "    <tr>\n",
       "      <th>1</th>\n",
       "      <td>83.370003</td>\n",
       "      <td>NaN</td>\n",
       "      <td>4915.0</td>\n",
       "      <td>23.990000</td>\n",
       "      <td>1268.0</td>\n",
       "      <td>1777.0</td>\n",
       "      <td>240</td>\n",
       "      <td>57900.0</td>\n",
       "      <td>42.0</td>\n",
       "      <td>Washington</td>\n",
       "      <td>...</td>\n",
       "      <td>Male</td>\n",
       "      <td>NaN</td>\n",
       "      <td>NaN</td>\n",
       "      <td>NaN</td>\n",
       "      <td>NaN</td>\n",
       "      <td>White</td>\n",
       "      <td>Hispanic or Latino</td>\n",
       "      <td>Department of Housing and Urban Development</td>\n",
       "      <td>HUD</td>\n",
       "      <td>Loan originated</td>\n",
       "    </tr>\n",
       "    <tr>\n",
       "      <th>2</th>\n",
       "      <td>91.129997</td>\n",
       "      <td>NaN</td>\n",
       "      <td>5075.0</td>\n",
       "      <td>11.820000</td>\n",
       "      <td>1136.0</td>\n",
       "      <td>1838.0</td>\n",
       "      <td>241</td>\n",
       "      <td>73300.0</td>\n",
       "      <td>117.0</td>\n",
       "      <td>Washington</td>\n",
       "      <td>...</td>\n",
       "      <td>Male</td>\n",
       "      <td>NaN</td>\n",
       "      <td>NaN</td>\n",
       "      <td>NaN</td>\n",
       "      <td>NaN</td>\n",
       "      <td>White</td>\n",
       "      <td>Not Hispanic or Latino</td>\n",
       "      <td>Department of Housing and Urban Development</td>\n",
       "      <td>HUD</td>\n",
       "      <td>Loan originated</td>\n",
       "    </tr>\n",
       "    <tr>\n",
       "      <th>3</th>\n",
       "      <td>146.169998</td>\n",
       "      <td>NaN</td>\n",
       "      <td>5032.0</td>\n",
       "      <td>8.590000</td>\n",
       "      <td>1525.0</td>\n",
       "      <td>1820.0</td>\n",
       "      <td>351</td>\n",
       "      <td>73300.0</td>\n",
       "      <td>315.0</td>\n",
       "      <td>Washington</td>\n",
       "      <td>...</td>\n",
       "      <td>Male</td>\n",
       "      <td>NaN</td>\n",
       "      <td>NaN</td>\n",
       "      <td>NaN</td>\n",
       "      <td>NaN</td>\n",
       "      <td>Information not provided by applicant in mail,...</td>\n",
       "      <td>Information not provided by applicant in mail,...</td>\n",
       "      <td>National Credit Union Administration</td>\n",
       "      <td>NCUA</td>\n",
       "      <td>Loan originated</td>\n",
       "    </tr>\n",
       "    <tr>\n",
       "      <th>4</th>\n",
       "      <td>162.470001</td>\n",
       "      <td>NaN</td>\n",
       "      <td>5183.0</td>\n",
       "      <td>10.500000</td>\n",
       "      <td>1705.0</td>\n",
       "      <td>2104.0</td>\n",
       "      <td>417</td>\n",
       "      <td>78100.0</td>\n",
       "      <td>114.0</td>\n",
       "      <td>Washington</td>\n",
       "      <td>...</td>\n",
       "      <td>Female</td>\n",
       "      <td>NaN</td>\n",
       "      <td>NaN</td>\n",
       "      <td>NaN</td>\n",
       "      <td>NaN</td>\n",
       "      <td>White</td>\n",
       "      <td>Not Hispanic or Latino</td>\n",
       "      <td>Federal Deposit Insurance Corporation</td>\n",
       "      <td>FDIC</td>\n",
       "      <td>Loan originated</td>\n",
       "    </tr>\n",
       "  </tbody>\n",
       "</table>\n",
       "<p>5 rows × 47 columns</p>\n",
       "</div>"
      ],
      "text/plain": [
       "   tract_to_msamd_income  rate_spread  population  minority_population  \\\n",
       "0             121.690002          NaN      8381.0            23.790001   \n",
       "1              83.370003          NaN      4915.0            23.990000   \n",
       "2              91.129997          NaN      5075.0            11.820000   \n",
       "3             146.169998          NaN      5032.0             8.590000   \n",
       "4             162.470001          NaN      5183.0            10.500000   \n",
       "\n",
       "   number_of_owner_occupied_units  number_of_1_to_4_family_units  \\\n",
       "0                          2175.0                         2660.0   \n",
       "1                          1268.0                         1777.0   \n",
       "2                          1136.0                         1838.0   \n",
       "3                          1525.0                         1820.0   \n",
       "4                          1705.0                         2104.0   \n",
       "\n",
       "   loan_amount_000s  hud_median_family_income  applicant_income_000s  \\\n",
       "0               227                   73300.0                  116.0   \n",
       "1               240                   57900.0                   42.0   \n",
       "2               241                   73300.0                  117.0   \n",
       "3               351                   73300.0                  315.0   \n",
       "4               417                   78100.0                  114.0   \n",
       "\n",
       "   state_name  ... applicant_sex_name  applicant_race_name_5  \\\n",
       "0  Washington  ...             Female                    NaN   \n",
       "1  Washington  ...               Male                    NaN   \n",
       "2  Washington  ...               Male                    NaN   \n",
       "3  Washington  ...               Male                    NaN   \n",
       "4  Washington  ...             Female                    NaN   \n",
       "\n",
       "  applicant_race_name_4 applicant_race_name_3 applicant_race_name_2  \\\n",
       "0                   NaN                   NaN                   NaN   \n",
       "1                   NaN                   NaN                   NaN   \n",
       "2                   NaN                   NaN                   NaN   \n",
       "3                   NaN                   NaN                   NaN   \n",
       "4                   NaN                   NaN                   NaN   \n",
       "\n",
       "                               applicant_race_name_1  \\\n",
       "0  Information not provided by applicant in mail,...   \n",
       "1                                              White   \n",
       "2                                              White   \n",
       "3  Information not provided by applicant in mail,...   \n",
       "4                                              White   \n",
       "\n",
       "                            applicant_ethnicity_name  \\\n",
       "0                             Not Hispanic or Latino   \n",
       "1                                 Hispanic or Latino   \n",
       "2                             Not Hispanic or Latino   \n",
       "3  Information not provided by applicant in mail,...   \n",
       "4                             Not Hispanic or Latino   \n",
       "\n",
       "                                   agency_name agency_abbr action_taken_name  \n",
       "0         Consumer Financial Protection Bureau        CFPB   Loan originated  \n",
       "1  Department of Housing and Urban Development         HUD   Loan originated  \n",
       "2  Department of Housing and Urban Development         HUD   Loan originated  \n",
       "3         National Credit Union Administration        NCUA   Loan originated  \n",
       "4        Federal Deposit Insurance Corporation        FDIC   Loan originated  \n",
       "\n",
       "[5 rows x 47 columns]"
      ]
     },
     "execution_count": 12,
     "metadata": {},
     "output_type": "execute_result"
    }
   ],
   "source": [
    "df_data = pd.read_csv('/Users/andrewnelson/Documents/ISDS7070/Module 5 /Washington_State_HDMA-2016.csv', low_memory = False)\n",
    "df_data.head(5)"
   ]
  },
  {
   "cell_type": "code",
   "execution_count": 13,
   "metadata": {},
   "outputs": [
    {
     "data": {
      "text/html": [
       "<div>\n",
       "<style scoped>\n",
       "    .dataframe tbody tr th:only-of-type {\n",
       "        vertical-align: middle;\n",
       "    }\n",
       "\n",
       "    .dataframe tbody tr th {\n",
       "        vertical-align: top;\n",
       "    }\n",
       "\n",
       "    .dataframe thead th {\n",
       "        text-align: right;\n",
       "    }\n",
       "</style>\n",
       "<table border=\"1\" class=\"dataframe\">\n",
       "  <thead>\n",
       "    <tr style=\"text-align: right;\">\n",
       "      <th></th>\n",
       "      <th>tract_to_msamd_income</th>\n",
       "      <th>rate_spread</th>\n",
       "      <th>population</th>\n",
       "      <th>minority_population</th>\n",
       "      <th>number_of_owner_occupied_units</th>\n",
       "      <th>number_of_1_to_4_family_units</th>\n",
       "      <th>loan_amount_000s</th>\n",
       "      <th>hud_median_family_income</th>\n",
       "      <th>applicant_income_000s</th>\n",
       "      <th>sequence_number</th>\n",
       "      <th>census_tract_number</th>\n",
       "      <th>as_of_year</th>\n",
       "      <th>application_date_indicator</th>\n",
       "    </tr>\n",
       "  </thead>\n",
       "  <tbody>\n",
       "    <tr>\n",
       "      <th>count</th>\n",
       "      <td>465951.000000</td>\n",
       "      <td>8638.000000</td>\n",
       "      <td>465956.000000</td>\n",
       "      <td>465956.000000</td>\n",
       "      <td>465944.00000</td>\n",
       "      <td>465955.000000</td>\n",
       "      <td>466566.000000</td>\n",
       "      <td>465960.000000</td>\n",
       "      <td>404533.000000</td>\n",
       "      <td>4.665660e+05</td>\n",
       "      <td>465960.000000</td>\n",
       "      <td>466566.0</td>\n",
       "      <td>466566.000000</td>\n",
       "    </tr>\n",
       "    <tr>\n",
       "      <th>mean</th>\n",
       "      <td>106.906157</td>\n",
       "      <td>2.120028</td>\n",
       "      <td>5288.219117</td>\n",
       "      <td>24.765475</td>\n",
       "      <td>1389.05978</td>\n",
       "      <td>1822.137288</td>\n",
       "      <td>298.260936</td>\n",
       "      <td>76797.148468</td>\n",
       "      <td>112.984713</td>\n",
       "      <td>1.126340e+05</td>\n",
       "      <td>1395.489104</td>\n",
       "      <td>2016.0</td>\n",
       "      <td>0.207285</td>\n",
       "    </tr>\n",
       "    <tr>\n",
       "      <th>std</th>\n",
       "      <td>29.280418</td>\n",
       "      <td>1.113000</td>\n",
       "      <td>1665.350069</td>\n",
       "      <td>15.214602</td>\n",
       "      <td>506.75606</td>\n",
       "      <td>682.031693</td>\n",
       "      <td>760.741532</td>\n",
       "      <td>12959.051933</td>\n",
       "      <td>125.115972</td>\n",
       "      <td>2.020830e+05</td>\n",
       "      <td>2950.970895</td>\n",
       "      <td>0.0</td>\n",
       "      <td>0.609593</td>\n",
       "    </tr>\n",
       "    <tr>\n",
       "      <th>min</th>\n",
       "      <td>14.050000</td>\n",
       "      <td>1.500000</td>\n",
       "      <td>5.000000</td>\n",
       "      <td>2.040000</td>\n",
       "      <td>10.00000</td>\n",
       "      <td>10.000000</td>\n",
       "      <td>1.000000</td>\n",
       "      <td>48700.000000</td>\n",
       "      <td>1.000000</td>\n",
       "      <td>1.000000e+00</td>\n",
       "      <td>1.000000</td>\n",
       "      <td>2016.0</td>\n",
       "      <td>0.000000</td>\n",
       "    </tr>\n",
       "    <tr>\n",
       "      <th>25%</th>\n",
       "      <td>87.260002</td>\n",
       "      <td>1.590000</td>\n",
       "      <td>4124.000000</td>\n",
       "      <td>13.220000</td>\n",
       "      <td>1032.00000</td>\n",
       "      <td>1395.000000</td>\n",
       "      <td>172.000000</td>\n",
       "      <td>65800.000000</td>\n",
       "      <td>60.000000</td>\n",
       "      <td>5.121000e+03</td>\n",
       "      <td>117.010000</td>\n",
       "      <td>2016.0</td>\n",
       "      <td>0.000000</td>\n",
       "    </tr>\n",
       "    <tr>\n",
       "      <th>50%</th>\n",
       "      <td>104.529999</td>\n",
       "      <td>1.720000</td>\n",
       "      <td>5173.000000</td>\n",
       "      <td>20.750000</td>\n",
       "      <td>1359.00000</td>\n",
       "      <td>1734.000000</td>\n",
       "      <td>248.000000</td>\n",
       "      <td>73300.000000</td>\n",
       "      <td>89.000000</td>\n",
       "      <td>2.647200e+04</td>\n",
       "      <td>323.220000</td>\n",
       "      <td>2016.0</td>\n",
       "      <td>0.000000</td>\n",
       "    </tr>\n",
       "    <tr>\n",
       "      <th>75%</th>\n",
       "      <td>123.809998</td>\n",
       "      <td>2.000000</td>\n",
       "      <td>6342.000000</td>\n",
       "      <td>32.220001</td>\n",
       "      <td>1705.00000</td>\n",
       "      <td>2171.000000</td>\n",
       "      <td>350.000000</td>\n",
       "      <td>90300.000000</td>\n",
       "      <td>133.000000</td>\n",
       "      <td>1.095258e+05</td>\n",
       "      <td>702.030000</td>\n",
       "      <td>2016.0</td>\n",
       "      <td>0.000000</td>\n",
       "    </tr>\n",
       "    <tr>\n",
       "      <th>max</th>\n",
       "      <td>257.140015</td>\n",
       "      <td>13.660000</td>\n",
       "      <td>13025.000000</td>\n",
       "      <td>94.790001</td>\n",
       "      <td>2997.00000</td>\n",
       "      <td>5893.000000</td>\n",
       "      <td>99999.000000</td>\n",
       "      <td>90300.000000</td>\n",
       "      <td>9999.000000</td>\n",
       "      <td>1.241780e+06</td>\n",
       "      <td>9901.000000</td>\n",
       "      <td>2016.0</td>\n",
       "      <td>2.000000</td>\n",
       "    </tr>\n",
       "  </tbody>\n",
       "</table>\n",
       "</div>"
      ],
      "text/plain": [
       "       tract_to_msamd_income  rate_spread     population  minority_population  \\\n",
       "count          465951.000000  8638.000000  465956.000000        465956.000000   \n",
       "mean              106.906157     2.120028    5288.219117            24.765475   \n",
       "std                29.280418     1.113000    1665.350069            15.214602   \n",
       "min                14.050000     1.500000       5.000000             2.040000   \n",
       "25%                87.260002     1.590000    4124.000000            13.220000   \n",
       "50%               104.529999     1.720000    5173.000000            20.750000   \n",
       "75%               123.809998     2.000000    6342.000000            32.220001   \n",
       "max               257.140015    13.660000   13025.000000            94.790001   \n",
       "\n",
       "       number_of_owner_occupied_units  number_of_1_to_4_family_units  \\\n",
       "count                    465944.00000                  465955.000000   \n",
       "mean                       1389.05978                    1822.137288   \n",
       "std                         506.75606                     682.031693   \n",
       "min                          10.00000                      10.000000   \n",
       "25%                        1032.00000                    1395.000000   \n",
       "50%                        1359.00000                    1734.000000   \n",
       "75%                        1705.00000                    2171.000000   \n",
       "max                        2997.00000                    5893.000000   \n",
       "\n",
       "       loan_amount_000s  hud_median_family_income  applicant_income_000s  \\\n",
       "count     466566.000000             465960.000000          404533.000000   \n",
       "mean         298.260936              76797.148468             112.984713   \n",
       "std          760.741532              12959.051933             125.115972   \n",
       "min            1.000000              48700.000000               1.000000   \n",
       "25%          172.000000              65800.000000              60.000000   \n",
       "50%          248.000000              73300.000000              89.000000   \n",
       "75%          350.000000              90300.000000             133.000000   \n",
       "max        99999.000000              90300.000000            9999.000000   \n",
       "\n",
       "       sequence_number  census_tract_number  as_of_year  \\\n",
       "count     4.665660e+05        465960.000000    466566.0   \n",
       "mean      1.126340e+05          1395.489104      2016.0   \n",
       "std       2.020830e+05          2950.970895         0.0   \n",
       "min       1.000000e+00             1.000000      2016.0   \n",
       "25%       5.121000e+03           117.010000      2016.0   \n",
       "50%       2.647200e+04           323.220000      2016.0   \n",
       "75%       1.095258e+05           702.030000      2016.0   \n",
       "max       1.241780e+06          9901.000000      2016.0   \n",
       "\n",
       "       application_date_indicator  \n",
       "count               466566.000000  \n",
       "mean                     0.207285  \n",
       "std                      0.609593  \n",
       "min                      0.000000  \n",
       "25%                      0.000000  \n",
       "50%                      0.000000  \n",
       "75%                      0.000000  \n",
       "max                      2.000000  "
      ]
     },
     "execution_count": 13,
     "metadata": {},
     "output_type": "execute_result"
    }
   ],
   "source": [
    "df_data.describe()"
   ]
  },
  {
   "cell_type": "code",
   "execution_count": 14,
   "metadata": {},
   "outputs": [
    {
     "data": {
      "text/plain": [
       "Loan originated                                        263712\n",
       "Application denied by financial institution             64177\n",
       "Application withdrawn by applicant                      60358\n",
       "Loan purchased by the institution                       48356\n",
       "File closed for incompleteness                          18176\n",
       "Application approved but not accepted                   11735\n",
       "Preapproval request denied by financial institution        35\n",
       "Preapproval request approved but not accepted              17\n",
       "Name: action_taken_name, dtype: int64"
      ]
     },
     "execution_count": 14,
     "metadata": {},
     "output_type": "execute_result"
    }
   ],
   "source": [
    "df_data['action_taken_name'].value_counts()"
   ]
  },
  {
   "cell_type": "markdown",
   "metadata": {},
   "source": [
    "Loan originated is a widely used term in finance , it means the loan application has been approved. We will remove the rows where the applicant has withdrawn the request for loan. Loan purchased means that the lender bought the loan on a secondary market."
   ]
  },
  {
   "cell_type": "code",
   "execution_count": 15,
   "metadata": {},
   "outputs": [],
   "source": [
    "df_data=df_data[df_data['action_taken_name']!=\"Application withdrawn by applicant\"]\n",
    "df_data=df_data[df_data['action_taken_name']!='Loan purchased by the institution']\n",
    "df_data.replace('Information not provided by applicant in mail, Internet, or telephone application', \"Not applicable\", inplace = True)\n",
    "df_data.replace('No co-applicant', \"Not applicable\", inplace = True)"
   ]
  },
  {
   "cell_type": "markdown",
   "metadata": {},
   "source": [
    "Consideraring there are too much variable in the 'action_taken_name', we will add a new feature representing approved for originated loan and not approved for everything else."
   ]
  },
  {
   "cell_type": "code",
   "execution_count": 16,
   "metadata": {},
   "outputs": [],
   "source": [
    "df_data['loan_status']=[\"approved\" if x==\"Loan originated\" else \"not approved\" for x in df_data['action_taken_name']]"
   ]
  },
  {
   "cell_type": "code",
   "execution_count": 17,
   "metadata": {},
   "outputs": [
    {
     "data": {
      "text/html": [
       "<div>\n",
       "<style scoped>\n",
       "    .dataframe tbody tr th:only-of-type {\n",
       "        vertical-align: middle;\n",
       "    }\n",
       "\n",
       "    .dataframe tbody tr th {\n",
       "        vertical-align: top;\n",
       "    }\n",
       "\n",
       "    .dataframe thead th {\n",
       "        text-align: right;\n",
       "    }\n",
       "</style>\n",
       "<table border=\"1\" class=\"dataframe\">\n",
       "  <thead>\n",
       "    <tr style=\"text-align: right;\">\n",
       "      <th></th>\n",
       "      <th>tract_to_msamd_income</th>\n",
       "      <th>rate_spread</th>\n",
       "      <th>population</th>\n",
       "      <th>minority_population</th>\n",
       "      <th>number_of_owner_occupied_units</th>\n",
       "      <th>number_of_1_to_4_family_units</th>\n",
       "      <th>loan_amount_000s</th>\n",
       "      <th>hud_median_family_income</th>\n",
       "      <th>applicant_income_000s</th>\n",
       "      <th>state_name</th>\n",
       "      <th>...</th>\n",
       "      <th>applicant_race_name_5</th>\n",
       "      <th>applicant_race_name_4</th>\n",
       "      <th>applicant_race_name_3</th>\n",
       "      <th>applicant_race_name_2</th>\n",
       "      <th>applicant_race_name_1</th>\n",
       "      <th>applicant_ethnicity_name</th>\n",
       "      <th>agency_name</th>\n",
       "      <th>agency_abbr</th>\n",
       "      <th>action_taken_name</th>\n",
       "      <th>loan_status</th>\n",
       "    </tr>\n",
       "  </thead>\n",
       "  <tbody>\n",
       "    <tr>\n",
       "      <th>0</th>\n",
       "      <td>121.690002</td>\n",
       "      <td>NaN</td>\n",
       "      <td>8381.0</td>\n",
       "      <td>23.790001</td>\n",
       "      <td>2175.0</td>\n",
       "      <td>2660.0</td>\n",
       "      <td>227</td>\n",
       "      <td>73300.0</td>\n",
       "      <td>116.0</td>\n",
       "      <td>Washington</td>\n",
       "      <td>...</td>\n",
       "      <td>NaN</td>\n",
       "      <td>NaN</td>\n",
       "      <td>NaN</td>\n",
       "      <td>NaN</td>\n",
       "      <td>Not applicable</td>\n",
       "      <td>Not Hispanic or Latino</td>\n",
       "      <td>Consumer Financial Protection Bureau</td>\n",
       "      <td>CFPB</td>\n",
       "      <td>Loan originated</td>\n",
       "      <td>approved</td>\n",
       "    </tr>\n",
       "    <tr>\n",
       "      <th>1</th>\n",
       "      <td>83.370003</td>\n",
       "      <td>NaN</td>\n",
       "      <td>4915.0</td>\n",
       "      <td>23.990000</td>\n",
       "      <td>1268.0</td>\n",
       "      <td>1777.0</td>\n",
       "      <td>240</td>\n",
       "      <td>57900.0</td>\n",
       "      <td>42.0</td>\n",
       "      <td>Washington</td>\n",
       "      <td>...</td>\n",
       "      <td>NaN</td>\n",
       "      <td>NaN</td>\n",
       "      <td>NaN</td>\n",
       "      <td>NaN</td>\n",
       "      <td>White</td>\n",
       "      <td>Hispanic or Latino</td>\n",
       "      <td>Department of Housing and Urban Development</td>\n",
       "      <td>HUD</td>\n",
       "      <td>Loan originated</td>\n",
       "      <td>approved</td>\n",
       "    </tr>\n",
       "    <tr>\n",
       "      <th>2</th>\n",
       "      <td>91.129997</td>\n",
       "      <td>NaN</td>\n",
       "      <td>5075.0</td>\n",
       "      <td>11.820000</td>\n",
       "      <td>1136.0</td>\n",
       "      <td>1838.0</td>\n",
       "      <td>241</td>\n",
       "      <td>73300.0</td>\n",
       "      <td>117.0</td>\n",
       "      <td>Washington</td>\n",
       "      <td>...</td>\n",
       "      <td>NaN</td>\n",
       "      <td>NaN</td>\n",
       "      <td>NaN</td>\n",
       "      <td>NaN</td>\n",
       "      <td>White</td>\n",
       "      <td>Not Hispanic or Latino</td>\n",
       "      <td>Department of Housing and Urban Development</td>\n",
       "      <td>HUD</td>\n",
       "      <td>Loan originated</td>\n",
       "      <td>approved</td>\n",
       "    </tr>\n",
       "    <tr>\n",
       "      <th>3</th>\n",
       "      <td>146.169998</td>\n",
       "      <td>NaN</td>\n",
       "      <td>5032.0</td>\n",
       "      <td>8.590000</td>\n",
       "      <td>1525.0</td>\n",
       "      <td>1820.0</td>\n",
       "      <td>351</td>\n",
       "      <td>73300.0</td>\n",
       "      <td>315.0</td>\n",
       "      <td>Washington</td>\n",
       "      <td>...</td>\n",
       "      <td>NaN</td>\n",
       "      <td>NaN</td>\n",
       "      <td>NaN</td>\n",
       "      <td>NaN</td>\n",
       "      <td>Not applicable</td>\n",
       "      <td>Not applicable</td>\n",
       "      <td>National Credit Union Administration</td>\n",
       "      <td>NCUA</td>\n",
       "      <td>Loan originated</td>\n",
       "      <td>approved</td>\n",
       "    </tr>\n",
       "    <tr>\n",
       "      <th>4</th>\n",
       "      <td>162.470001</td>\n",
       "      <td>NaN</td>\n",
       "      <td>5183.0</td>\n",
       "      <td>10.500000</td>\n",
       "      <td>1705.0</td>\n",
       "      <td>2104.0</td>\n",
       "      <td>417</td>\n",
       "      <td>78100.0</td>\n",
       "      <td>114.0</td>\n",
       "      <td>Washington</td>\n",
       "      <td>...</td>\n",
       "      <td>NaN</td>\n",
       "      <td>NaN</td>\n",
       "      <td>NaN</td>\n",
       "      <td>NaN</td>\n",
       "      <td>White</td>\n",
       "      <td>Not Hispanic or Latino</td>\n",
       "      <td>Federal Deposit Insurance Corporation</td>\n",
       "      <td>FDIC</td>\n",
       "      <td>Loan originated</td>\n",
       "      <td>approved</td>\n",
       "    </tr>\n",
       "  </tbody>\n",
       "</table>\n",
       "<p>5 rows × 48 columns</p>\n",
       "</div>"
      ],
      "text/plain": [
       "   tract_to_msamd_income  rate_spread  population  minority_population  \\\n",
       "0             121.690002          NaN      8381.0            23.790001   \n",
       "1              83.370003          NaN      4915.0            23.990000   \n",
       "2              91.129997          NaN      5075.0            11.820000   \n",
       "3             146.169998          NaN      5032.0             8.590000   \n",
       "4             162.470001          NaN      5183.0            10.500000   \n",
       "\n",
       "   number_of_owner_occupied_units  number_of_1_to_4_family_units  \\\n",
       "0                          2175.0                         2660.0   \n",
       "1                          1268.0                         1777.0   \n",
       "2                          1136.0                         1838.0   \n",
       "3                          1525.0                         1820.0   \n",
       "4                          1705.0                         2104.0   \n",
       "\n",
       "   loan_amount_000s  hud_median_family_income  applicant_income_000s  \\\n",
       "0               227                   73300.0                  116.0   \n",
       "1               240                   57900.0                   42.0   \n",
       "2               241                   73300.0                  117.0   \n",
       "3               351                   73300.0                  315.0   \n",
       "4               417                   78100.0                  114.0   \n",
       "\n",
       "   state_name  ... applicant_race_name_5  applicant_race_name_4  \\\n",
       "0  Washington  ...                   NaN                    NaN   \n",
       "1  Washington  ...                   NaN                    NaN   \n",
       "2  Washington  ...                   NaN                    NaN   \n",
       "3  Washington  ...                   NaN                    NaN   \n",
       "4  Washington  ...                   NaN                    NaN   \n",
       "\n",
       "  applicant_race_name_3 applicant_race_name_2 applicant_race_name_1  \\\n",
       "0                   NaN                   NaN        Not applicable   \n",
       "1                   NaN                   NaN                 White   \n",
       "2                   NaN                   NaN                 White   \n",
       "3                   NaN                   NaN        Not applicable   \n",
       "4                   NaN                   NaN                 White   \n",
       "\n",
       "  applicant_ethnicity_name                                  agency_name  \\\n",
       "0   Not Hispanic or Latino         Consumer Financial Protection Bureau   \n",
       "1       Hispanic or Latino  Department of Housing and Urban Development   \n",
       "2   Not Hispanic or Latino  Department of Housing and Urban Development   \n",
       "3           Not applicable         National Credit Union Administration   \n",
       "4   Not Hispanic or Latino        Federal Deposit Insurance Corporation   \n",
       "\n",
       "  agency_abbr action_taken_name loan_status  \n",
       "0        CFPB   Loan originated    approved  \n",
       "1         HUD   Loan originated    approved  \n",
       "2         HUD   Loan originated    approved  \n",
       "3        NCUA   Loan originated    approved  \n",
       "4        FDIC   Loan originated    approved  \n",
       "\n",
       "[5 rows x 48 columns]"
      ]
     },
     "execution_count": 17,
     "metadata": {},
     "output_type": "execute_result"
    }
   ],
   "source": [
    "df_data.head()"
   ]
  },
  {
   "cell_type": "code",
   "execution_count": 18,
   "metadata": {},
   "outputs": [],
   "source": [
    "df_data.drop(columns=['rate_spread','population','edit_status_name','denial_reason_name_3','denial_reason_name_2','denial_reason_name_1',\n",
    "                      'applicant_race_name_5','applicant_race_name_4','applicant_race_name_3','applicant_race_name_2',\n",
    "                      'co_applicant_race_name_5','co_applicant_race_name_4','co_applicant_race_name_3','co_applicant_race_name_2',\n",
    "                      'as_of_year'],inplace=True)"
   ]
  },
  {
   "cell_type": "code",
   "execution_count": 19,
   "metadata": {},
   "outputs": [
    {
     "name": "stdout",
     "output_type": "stream",
     "text": [
      "<class 'pandas.core.frame.DataFrame'>\n",
      "Int64Index: 357852 entries, 0 to 466565\n",
      "Data columns (total 33 columns):\n",
      " #   Column                          Non-Null Count   Dtype  \n",
      "---  ------                          --------------   -----  \n",
      " 0   tract_to_msamd_income           357494 non-null  float64\n",
      " 1   minority_population             357497 non-null  float64\n",
      " 2   number_of_owner_occupied_units  357492 non-null  float64\n",
      " 3   number_of_1_to_4_family_units   357496 non-null  float64\n",
      " 4   loan_amount_000s                357852 non-null  int64  \n",
      " 5   hud_median_family_income        357499 non-null  float64\n",
      " 6   applicant_income_000s           326472 non-null  float64\n",
      " 7   state_name                      357852 non-null  object \n",
      " 8   state_abbr                      357852 non-null  object \n",
      " 9   sequence_number                 357852 non-null  int64  \n",
      " 10  respondent_id                   357852 non-null  object \n",
      " 11  purchaser_type_name             357852 non-null  object \n",
      " 12  property_type_name              357852 non-null  object \n",
      " 13  preapproval_name                357852 non-null  object \n",
      " 14  owner_occupancy_name            357852 non-null  object \n",
      " 15  msamd_name                      328724 non-null  object \n",
      " 16  loan_type_name                  357852 non-null  object \n",
      " 17  loan_purpose_name               357852 non-null  object \n",
      " 18  lien_status_name                357852 non-null  object \n",
      " 19  hoepa_status_name               357852 non-null  object \n",
      " 20  county_name                     357643 non-null  object \n",
      " 21  co_applicant_sex_name           357852 non-null  object \n",
      " 22  co_applicant_race_name_1        357852 non-null  object \n",
      " 23  co_applicant_ethnicity_name     357852 non-null  object \n",
      " 24  census_tract_number             357499 non-null  float64\n",
      " 25  application_date_indicator      357852 non-null  int64  \n",
      " 26  applicant_sex_name              357852 non-null  object \n",
      " 27  applicant_race_name_1           357852 non-null  object \n",
      " 28  applicant_ethnicity_name        357852 non-null  object \n",
      " 29  agency_name                     357852 non-null  object \n",
      " 30  agency_abbr                     357852 non-null  object \n",
      " 31  action_taken_name               357852 non-null  object \n",
      " 32  loan_status                     357852 non-null  object \n",
      "dtypes: float64(7), int64(3), object(23)\n",
      "memory usage: 92.8+ MB\n"
     ]
    }
   ],
   "source": [
    "df_data.info()"
   ]
  },
  {
   "cell_type": "markdown",
   "metadata": {},
   "source": [
    "> ①how does the SEX against the Mortgage Approvals?"
   ]
  },
  {
   "cell_type": "code",
   "execution_count": 20,
   "metadata": {},
   "outputs": [
    {
     "data": {
      "text/html": [
       "<div>\n",
       "<style scoped>\n",
       "    .dataframe tbody tr th:only-of-type {\n",
       "        vertical-align: middle;\n",
       "    }\n",
       "\n",
       "    .dataframe tbody tr th {\n",
       "        vertical-align: top;\n",
       "    }\n",
       "\n",
       "    .dataframe thead th {\n",
       "        text-align: right;\n",
       "    }\n",
       "</style>\n",
       "<table border=\"1\" class=\"dataframe\">\n",
       "  <thead>\n",
       "    <tr style=\"text-align: right;\">\n",
       "      <th></th>\n",
       "      <th>sex</th>\n",
       "      <th>approved</th>\n",
       "      <th>not approved</th>\n",
       "      <th>approved_per</th>\n",
       "      <th>not_approved_per</th>\n",
       "    </tr>\n",
       "  </thead>\n",
       "  <tbody>\n",
       "    <tr>\n",
       "      <th>0</th>\n",
       "      <td>Female</td>\n",
       "      <td>65579</td>\n",
       "      <td>24775</td>\n",
       "      <td>0.725801</td>\n",
       "      <td>0.274199</td>\n",
       "    </tr>\n",
       "    <tr>\n",
       "      <th>1</th>\n",
       "      <td>Male</td>\n",
       "      <td>172650</td>\n",
       "      <td>59289</td>\n",
       "      <td>0.744377</td>\n",
       "      <td>0.255623</td>\n",
       "    </tr>\n",
       "    <tr>\n",
       "      <th>2</th>\n",
       "      <td>Not applicable</td>\n",
       "      <td>25483</td>\n",
       "      <td>10076</td>\n",
       "      <td>0.716640</td>\n",
       "      <td>0.283360</td>\n",
       "    </tr>\n",
       "  </tbody>\n",
       "</table>\n",
       "</div>"
      ],
      "text/plain": [
       "              sex  approved  not approved  approved_per  not_approved_per\n",
       "0          Female     65579         24775      0.725801          0.274199\n",
       "1            Male    172650         59289      0.744377          0.255623\n",
       "2  Not applicable     25483         10076      0.716640          0.283360"
      ]
     },
     "execution_count": 20,
     "metadata": {},
     "output_type": "execute_result"
    }
   ],
   "source": [
    "df_sex=pd.crosstab(df_data['applicant_sex_name'],df_data['loan_status'])\n",
    "df_sex=df_sex.reset_index()\n",
    "\n",
    "df_sex.columns=['sex','approved','not approved']\n",
    "\n",
    "df_sex_per=df_sex[['approved','not approved']].div(df_sex.sum(axis=1), axis=0)\n",
    "df_sex_per.columns=['approved_per','not_approved_per']\n",
    "df_sex=df_sex.merge(df_sex_per,left_index=True,right_index=True)\n",
    "df_sex"
   ]
  },
  {
   "cell_type": "code",
   "execution_count": 21,
   "metadata": {},
   "outputs": [
    {
     "data": {
      "image/png": "[encoded data removed]",
      "text/plain": [
       "<Figure size 1080x216 with 1 Axes>"
      ]
     },
     "metadata": {
      "needs_background": "light"
     },
     "output_type": "display_data"
    }
   ],
   "source": [
    "plt.figure(figsize=(15, 3)) \n",
    "x = list(range(3))\n",
    "total_width, n = 0.6, 2\n",
    "width = total_width / n\n",
    "plt.bar(x,df_sex['approved_per'] ,width=width,label='Approved', fc='b')\n",
    "for i in range(len(x)):\n",
    "    x[i] += width\n",
    "plt.bar(x, df_sex['not_approved_per'],width=width,tick_label=df_sex['sex'], label='Not Approved',fc='g')\n",
    "plt.legend(loc='upper right')\n",
    "plt.title('Applicant SEX Approval Percentage')\n",
    "plt.ylim(0,0.8)\n",
    "plt.show()"
   ]
  },
  {
   "cell_type": "markdown",
   "metadata": {},
   "source": [
    "> ②how does the Applicant Race against the Mortgage Approvals?"
   ]
  },
  {
   "cell_type": "code",
   "execution_count": 22,
   "metadata": {},
   "outputs": [
    {
     "data": {
      "text/html": [
       "<div>\n",
       "<style scoped>\n",
       "    .dataframe tbody tr th:only-of-type {\n",
       "        vertical-align: middle;\n",
       "    }\n",
       "\n",
       "    .dataframe tbody tr th {\n",
       "        vertical-align: top;\n",
       "    }\n",
       "\n",
       "    .dataframe thead th {\n",
       "        text-align: right;\n",
       "    }\n",
       "</style>\n",
       "<table border=\"1\" class=\"dataframe\">\n",
       "  <thead>\n",
       "    <tr style=\"text-align: right;\">\n",
       "      <th></th>\n",
       "      <th>race</th>\n",
       "      <th>approved</th>\n",
       "      <th>not approved</th>\n",
       "      <th>approved_per</th>\n",
       "      <th>not_approved_per</th>\n",
       "    </tr>\n",
       "  </thead>\n",
       "  <tbody>\n",
       "    <tr>\n",
       "      <th>0</th>\n",
       "      <td>American Indian or Alaska Native</td>\n",
       "      <td>2296</td>\n",
       "      <td>1361</td>\n",
       "      <td>0.627837</td>\n",
       "      <td>0.372163</td>\n",
       "    </tr>\n",
       "    <tr>\n",
       "      <th>1</th>\n",
       "      <td>Asian</td>\n",
       "      <td>22391</td>\n",
       "      <td>7967</td>\n",
       "      <td>0.737565</td>\n",
       "      <td>0.262435</td>\n",
       "    </tr>\n",
       "    <tr>\n",
       "      <th>2</th>\n",
       "      <td>Black or African American</td>\n",
       "      <td>5641</td>\n",
       "      <td>3102</td>\n",
       "      <td>0.645202</td>\n",
       "      <td>0.354798</td>\n",
       "    </tr>\n",
       "    <tr>\n",
       "      <th>3</th>\n",
       "      <td>Pacific Islande/Hawaiian</td>\n",
       "      <td>2011</td>\n",
       "      <td>976</td>\n",
       "      <td>0.673251</td>\n",
       "      <td>0.326749</td>\n",
       "    </tr>\n",
       "    <tr>\n",
       "      <th>4</th>\n",
       "      <td>Not applicable</td>\n",
       "      <td>38102</td>\n",
       "      <td>16032</td>\n",
       "      <td>0.703846</td>\n",
       "      <td>0.296154</td>\n",
       "    </tr>\n",
       "    <tr>\n",
       "      <th>5</th>\n",
       "      <td>White</td>\n",
       "      <td>193271</td>\n",
       "      <td>64702</td>\n",
       "      <td>0.749191</td>\n",
       "      <td>0.250809</td>\n",
       "    </tr>\n",
       "  </tbody>\n",
       "</table>\n",
       "</div>"
      ],
      "text/plain": [
       "                               race  approved  not approved  approved_per  \\\n",
       "0  American Indian or Alaska Native      2296          1361      0.627837   \n",
       "1                             Asian     22391          7967      0.737565   \n",
       "2         Black or African American      5641          3102      0.645202   \n",
       "3          Pacific Islande/Hawaiian      2011           976      0.673251   \n",
       "4                    Not applicable     38102         16032      0.703846   \n",
       "5                             White    193271         64702      0.749191   \n",
       "\n",
       "   not_approved_per  \n",
       "0          0.372163  \n",
       "1          0.262435  \n",
       "2          0.354798  \n",
       "3          0.326749  \n",
       "4          0.296154  \n",
       "5          0.250809  "
      ]
     },
     "execution_count": 22,
     "metadata": {},
     "output_type": "execute_result"
    }
   ],
   "source": [
    "df_race=pd.crosstab(df_data['applicant_race_name_1'],df_data['loan_status'])\n",
    "df_race=df_race.reset_index()\n",
    "\n",
    "df_race.columns=['race','approved','not approved']\n",
    "df_race['race']=df_race['race'].replace('Native Hawaiian or Other Pacific Islander','Pacific Islande/Hawaiian')\n",
    "\n",
    "df_race_per=df_race[['approved','not approved']].div(df_race.sum(axis=1), axis=0)\n",
    "df_race_per.columns=['approved_per','not_approved_per']\n",
    "df_race=df_race.merge(df_race_per,left_index=True,right_index=True)\n",
    "df_race"
   ]
  },
  {
   "cell_type": "code",
   "execution_count": 23,
   "metadata": {},
   "outputs": [
    {
     "data": {
      "text/plain": [
       "<matplotlib.legend.Legend at 0x7fcf69bbb1c0>"
      ]
     },
     "execution_count": 23,
     "metadata": {},
     "output_type": "execute_result"
    },
    {
     "data": {
      "image/png": "[encoded data removed]",
      "text/plain": [
       "<Figure size 1080x216 with 1 Axes>"
      ]
     },
     "metadata": {
      "needs_background": "light"
     },
     "output_type": "display_data"
    }
   ],
   "source": [
    "plt.figure(figsize=(15, 3)) \n",
    "y = list(range(6))\n",
    "total_width, n = 0.8,2\n",
    "width = total_width / n\n",
    "plt.plot(df_race['race'],df_race['approved_per'] ,label='Approved',marker=\"o\",color='blue')\n",
    "for i in range(len(y)):\n",
    "    y[i] += width\n",
    "plt.plot(df_race['race'], df_race['not_approved_per'], label='Not Approved',marker=\"o\",color='green')\n",
    "plt.title('Applicant Race Approval Percentage')\n",
    "plt.ylim(0,0.8)\n",
    "plt.legend(loc='upper right')"
   ]
  },
  {
   "cell_type": "markdown",
   "metadata": {},
   "source": [
    "> ③how does the Applicant Ethnicity against the Mortgage Approvals?"
   ]
  },
  {
   "cell_type": "code",
   "execution_count": 24,
   "metadata": {},
   "outputs": [
    {
     "data": {
      "text/html": [
       "<div>\n",
       "<style scoped>\n",
       "    .dataframe tbody tr th:only-of-type {\n",
       "        vertical-align: middle;\n",
       "    }\n",
       "\n",
       "    .dataframe tbody tr th {\n",
       "        vertical-align: top;\n",
       "    }\n",
       "\n",
       "    .dataframe thead th {\n",
       "        text-align: right;\n",
       "    }\n",
       "</style>\n",
       "<table border=\"1\" class=\"dataframe\">\n",
       "  <thead>\n",
       "    <tr style=\"text-align: right;\">\n",
       "      <th></th>\n",
       "      <th>ethnicity</th>\n",
       "      <th>approved</th>\n",
       "      <th>not approved</th>\n",
       "      <th>approved_per</th>\n",
       "      <th>not_approved_per</th>\n",
       "    </tr>\n",
       "  </thead>\n",
       "  <tbody>\n",
       "    <tr>\n",
       "      <th>0</th>\n",
       "      <td>Hispanic or Latino</td>\n",
       "      <td>12490</td>\n",
       "      <td>6072</td>\n",
       "      <td>0.672880</td>\n",
       "      <td>0.327120</td>\n",
       "    </tr>\n",
       "    <tr>\n",
       "      <th>1</th>\n",
       "      <td>Not Hispanic or Latino</td>\n",
       "      <td>213779</td>\n",
       "      <td>73019</td>\n",
       "      <td>0.745399</td>\n",
       "      <td>0.254601</td>\n",
       "    </tr>\n",
       "    <tr>\n",
       "      <th>2</th>\n",
       "      <td>Not applicable</td>\n",
       "      <td>37443</td>\n",
       "      <td>15049</td>\n",
       "      <td>0.713309</td>\n",
       "      <td>0.286691</td>\n",
       "    </tr>\n",
       "  </tbody>\n",
       "</table>\n",
       "</div>"
      ],
      "text/plain": [
       "                ethnicity  approved  not approved  approved_per  \\\n",
       "0      Hispanic or Latino     12490          6072      0.672880   \n",
       "1  Not Hispanic or Latino    213779         73019      0.745399   \n",
       "2          Not applicable     37443         15049      0.713309   \n",
       "\n",
       "   not_approved_per  \n",
       "0          0.327120  \n",
       "1          0.254601  \n",
       "2          0.286691  "
      ]
     },
     "execution_count": 24,
     "metadata": {},
     "output_type": "execute_result"
    }
   ],
   "source": [
    "df_ethnicity=pd.crosstab(df_data['applicant_ethnicity_name'],df_data['loan_status'])\n",
    "df_ethnicity=df_ethnicity.reset_index()\n",
    "\n",
    "df_ethnicity.columns=['ethnicity','approved','not approved']\n",
    "\n",
    "df_ethnicity_per=df_ethnicity[['approved','not approved']].div(df_ethnicity.sum(axis=1), axis=0)\n",
    "df_ethnicity_per.columns=['approved_per','not_approved_per']\n",
    "df_ethnicity=df_ethnicity.merge(df_ethnicity_per,left_index=True,right_index=True)\n",
    "df_ethnicity"
   ]
  },
  {
   "cell_type": "code",
   "execution_count": 25,
   "metadata": {},
   "outputs": [
    {
     "data": {
      "text/plain": [
       "<matplotlib.legend.Legend at 0x7fcf39bf4970>"
      ]
     },
     "execution_count": 25,
     "metadata": {},
     "output_type": "execute_result"
    },
    {
     "data": {
      "image/png": "[encoded data removed]",
      "text/plain": [
       "<Figure size 1080x216 with 1 Axes>"
      ]
     },
     "metadata": {
      "needs_background": "light"
     },
     "output_type": "display_data"
    }
   ],
   "source": [
    "plt.figure(figsize=(15, 3)) \n",
    "m = list(range(3))\n",
    "total_width, n = 0.8,2\n",
    "width = total_width / n\n",
    "plt.bar(m,df_ethnicity['approved_per'] ,width=width,label='Approved', fc='b')\n",
    "for i in range(len(m)):\n",
    "    m[i] += width\n",
    "plt.bar(m, df_ethnicity['not_approved_per'],width=width,tick_label=df_ethnicity['ethnicity'], label='Not Approved',fc='g')\n",
    "plt.title('Applicant Ethnicity Approval Percentage')\n",
    "plt.ylim(0,0.8)\n",
    "plt.legend(loc='upper right')"
   ]
  },
  {
   "cell_type": "markdown",
   "metadata": {},
   "source": [
    "Acoording to the 3 pictures above, there is no obvious difference between female and male applicant. However, it seems that the Approved Percentage \n",
    "on 'Not Hispannic or Latino', 'White' and 'Aisan' are slightly higher than other columns."
   ]
  },
  {
   "cell_type": "markdown",
   "metadata": {},
   "source": [
    "④Does the applicant income and loan amount will affect the approved rate?"
   ]
  },
  {
   "cell_type": "code",
   "execution_count": 26,
   "metadata": {},
   "outputs": [
    {
     "data": {
      "text/plain": [
       "<AxesSubplot:xlabel='loan_amount_000s', ylabel='applicant_income_000s'>"
      ]
     },
     "execution_count": 26,
     "metadata": {},
     "output_type": "execute_result"
    },
    {
     "data": {
      "image/png": "[encoded data removed]",
      "text/plain": [
       "<Figure size 432x288 with 1 Axes>"
      ]
     },
     "metadata": {
      "needs_background": "light"
     },
     "output_type": "display_data"
    }
   ],
   "source": [
    "sns.scatterplot(x=\"loan_amount_000s\", y=\"applicant_income_000s\", hue=\"loan_status\",data=df_data)"
   ]
  },
  {
   "cell_type": "code",
   "execution_count": 27,
   "metadata": {},
   "outputs": [
    {
     "data": {
      "text/plain": [
       "<AxesSubplot:xlabel='loan_amount_000s', ylabel='applicant_income_000s'>"
      ]
     },
     "execution_count": 27,
     "metadata": {},
     "output_type": "execute_result"
    },
    {
     "data": {
      "image/png": "[encoded data removed]",
      "text/plain": [
       "<Figure size 432x288 with 1 Axes>"
      ]
     },
     "metadata": {
      "needs_background": "light"
     },
     "output_type": "display_data"
    }
   ],
   "source": [
    "df_data=df_data[df_data['loan_amount_000s']<20000]\n",
    "df_data=df_data[df_data['applicant_income_000s']<2000]\n",
    "sns.scatterplot(x=\"loan_amount_000s\", y=\"applicant_income_000s\", hue=\"loan_status\",data=df_data)"
   ]
  },
  {
   "cell_type": "code",
   "execution_count": 28,
   "metadata": {},
   "outputs": [],
   "source": [
    "#df_data['income/loan percentage']=df_data['applicant_income_000s']*100/df_data['hud_median_family_income']\n",
    "df_data['income<1000'] = np.where(df_data['applicant_income_000s']<1000, True, False)\n",
    "df_data['loan_amount<2000'] = np.where(df_data['loan_amount_000s']<2000, True, False)"
   ]
  },
  {
   "cell_type": "code",
   "execution_count": 29,
   "metadata": {},
   "outputs": [],
   "source": [
    "#df_data.dropna(subset=['income/loan percentage'], axis=0, inplace=True)"
   ]
  },
  {
   "cell_type": "markdown",
   "metadata": {},
   "source": [
    "It's amazing that a person with a low income gets a loan for a very large amount. But this is a intenseive area in the bottom-right are. We'll find the applicant under 1000 are with high rate of Not Approved. So I'll divide the applicant income as under 1000 and more than 1000.And devide loan_amount as under 2000 and more than 2000."
   ]
  },
  {
   "cell_type": "markdown",
   "metadata": {},
   "source": [
    " ⑤how does the Loan Type against the Mortgage Approvals?"
   ]
  },
  {
   "cell_type": "code",
   "execution_count": 30,
   "metadata": {},
   "outputs": [
    {
     "data": {
      "text/html": [
       "<div>\n",
       "<style scoped>\n",
       "    .dataframe tbody tr th:only-of-type {\n",
       "        vertical-align: middle;\n",
       "    }\n",
       "\n",
       "    .dataframe tbody tr th {\n",
       "        vertical-align: top;\n",
       "    }\n",
       "\n",
       "    .dataframe thead th {\n",
       "        text-align: right;\n",
       "    }\n",
       "</style>\n",
       "<table border=\"1\" class=\"dataframe\">\n",
       "  <thead>\n",
       "    <tr style=\"text-align: right;\">\n",
       "      <th></th>\n",
       "      <th>loan_type</th>\n",
       "      <th>approved</th>\n",
       "      <th>not approved</th>\n",
       "      <th>approved_per</th>\n",
       "      <th>not_approved_per</th>\n",
       "    </tr>\n",
       "  </thead>\n",
       "  <tbody>\n",
       "    <tr>\n",
       "      <th>0</th>\n",
       "      <td>Conventional</td>\n",
       "      <td>189202</td>\n",
       "      <td>66091</td>\n",
       "      <td>0.741117</td>\n",
       "      <td>0.258883</td>\n",
       "    </tr>\n",
       "    <tr>\n",
       "      <th>1</th>\n",
       "      <td>FHA-insured</td>\n",
       "      <td>26918</td>\n",
       "      <td>10900</td>\n",
       "      <td>0.711777</td>\n",
       "      <td>0.288223</td>\n",
       "    </tr>\n",
       "    <tr>\n",
       "      <th>2</th>\n",
       "      <td>FSA/RHS-guaranteed</td>\n",
       "      <td>2005</td>\n",
       "      <td>524</td>\n",
       "      <td>0.792803</td>\n",
       "      <td>0.207197</td>\n",
       "    </tr>\n",
       "    <tr>\n",
       "      <th>3</th>\n",
       "      <td>VA-guaranteed</td>\n",
       "      <td>22993</td>\n",
       "      <td>7674</td>\n",
       "      <td>0.749764</td>\n",
       "      <td>0.250236</td>\n",
       "    </tr>\n",
       "  </tbody>\n",
       "</table>\n",
       "</div>"
      ],
      "text/plain": [
       "            loan_type  approved  not approved  approved_per  not_approved_per\n",
       "0        Conventional    189202         66091      0.741117          0.258883\n",
       "1         FHA-insured     26918         10900      0.711777          0.288223\n",
       "2  FSA/RHS-guaranteed      2005           524      0.792803          0.207197\n",
       "3       VA-guaranteed     22993          7674      0.749764          0.250236"
      ]
     },
     "execution_count": 30,
     "metadata": {},
     "output_type": "execute_result"
    }
   ],
   "source": [
    "df_loantype=pd.crosstab(df_data['loan_type_name'],df_data['loan_status'])\n",
    "df_loantype=df_loantype.reset_index()\n",
    "\n",
    "df_loantype.columns=['loan_type','approved','not approved']\n",
    "\n",
    "df_loantype_per=df_loantype[['approved','not approved']].div(df_loantype.sum(axis=1), axis=0)\n",
    "df_loantype_per.columns=['approved_per','not_approved_per']\n",
    "df_loantype=df_loantype.merge(df_loantype_per,left_index=True,right_index=True)\n",
    "df_loantype"
   ]
  },
  {
   "cell_type": "code",
   "execution_count": 31,
   "metadata": {},
   "outputs": [
    {
     "data": {
      "text/plain": [
       "<function matplotlib.pyplot.show(close=None, block=None)>"
      ]
     },
     "execution_count": 31,
     "metadata": {},
     "output_type": "execute_result"
    },
    {
     "data": {
      "image/png": "[encoded data removed]",
      "text/plain": [
       "<Figure size 1080x216 with 1 Axes>"
      ]
     },
     "metadata": {
      "needs_background": "light"
     },
     "output_type": "display_data"
    }
   ],
   "source": [
    "plt.figure(figsize=(15, 3)) \n",
    "a = list(range(4))\n",
    "total_width, n = 0.8,2\n",
    "width = total_width / n\n",
    "plt.bar(a,df_loantype['approved_per'] ,width=width,label='Approved', fc='b')\n",
    "for i in range(len(a)):\n",
    "    a[i] += width\n",
    "plt.bar(a, df_loantype['not_approved_per'],width=width,tick_label=df_loantype['loan_type'], label='Not Approved',fc='g')\n",
    "plt.title('Loan TypeApproval Percentage')\n",
    "plt.legend(loc='upper right')\n",
    "plt.ylim(0,0.8)\n",
    "plt.show"
   ]
  },
  {
   "cell_type": "markdown",
   "metadata": {},
   "source": [
    "The FHA insured has lower approved rate than others"
   ]
  },
  {
   "cell_type": "markdown",
   "metadata": {},
   "source": [
    "⑥how does the Loan Purpose against the Mortgage Approvals?"
   ]
  },
  {
   "cell_type": "code",
   "execution_count": 32,
   "metadata": {},
   "outputs": [
    {
     "data": {
      "text/html": [
       "<div>\n",
       "<style scoped>\n",
       "    .dataframe tbody tr th:only-of-type {\n",
       "        vertical-align: middle;\n",
       "    }\n",
       "\n",
       "    .dataframe tbody tr th {\n",
       "        vertical-align: top;\n",
       "    }\n",
       "\n",
       "    .dataframe thead th {\n",
       "        text-align: right;\n",
       "    }\n",
       "</style>\n",
       "<table border=\"1\" class=\"dataframe\">\n",
       "  <thead>\n",
       "    <tr style=\"text-align: right;\">\n",
       "      <th></th>\n",
       "      <th>purpose</th>\n",
       "      <th>approved</th>\n",
       "      <th>not approved</th>\n",
       "      <th>approved_per</th>\n",
       "      <th>not_approved_per</th>\n",
       "    </tr>\n",
       "  </thead>\n",
       "  <tbody>\n",
       "    <tr>\n",
       "      <th>0</th>\n",
       "      <td>Home improvement</td>\n",
       "      <td>13535</td>\n",
       "      <td>6523</td>\n",
       "      <td>0.674793</td>\n",
       "      <td>0.325207</td>\n",
       "    </tr>\n",
       "    <tr>\n",
       "      <th>1</th>\n",
       "      <td>Home purchase</td>\n",
       "      <td>119735</td>\n",
       "      <td>21688</td>\n",
       "      <td>0.846644</td>\n",
       "      <td>0.153356</td>\n",
       "    </tr>\n",
       "    <tr>\n",
       "      <th>2</th>\n",
       "      <td>Refinancing</td>\n",
       "      <td>107848</td>\n",
       "      <td>56978</td>\n",
       "      <td>0.654314</td>\n",
       "      <td>0.345686</td>\n",
       "    </tr>\n",
       "  </tbody>\n",
       "</table>\n",
       "</div>"
      ],
      "text/plain": [
       "            purpose  approved  not approved  approved_per  not_approved_per\n",
       "0  Home improvement     13535          6523      0.674793          0.325207\n",
       "1     Home purchase    119735         21688      0.846644          0.153356\n",
       "2       Refinancing    107848         56978      0.654314          0.345686"
      ]
     },
     "execution_count": 32,
     "metadata": {},
     "output_type": "execute_result"
    }
   ],
   "source": [
    "df_purpose=pd.crosstab(df_data['loan_purpose_name'],df_data['loan_status'])\n",
    "df_purpose=df_purpose.reset_index()\n",
    "\n",
    "df_purpose.columns=['purpose','approved','not approved']\n",
    "\n",
    "df_purpose_per=df_purpose[['approved','not approved']].div(df_purpose.sum(axis=1), axis=0)\n",
    "df_purpose_per.columns=['approved_per','not_approved_per']\n",
    "df_purpose=df_purpose.merge(df_purpose_per,left_index=True,right_index=True)\n",
    "df_purpose"
   ]
  },
  {
   "cell_type": "code",
   "execution_count": 33,
   "metadata": {},
   "outputs": [
    {
     "data": {
      "text/plain": [
       "<function matplotlib.pyplot.show(close=None, block=None)>"
      ]
     },
     "execution_count": 33,
     "metadata": {},
     "output_type": "execute_result"
    },
    {
     "data": {
      "image/png": "[encoded data removed]",
      "text/plain": [
       "<Figure size 1080x216 with 1 Axes>"
      ]
     },
     "metadata": {
      "needs_background": "light"
     },
     "output_type": "display_data"
    }
   ],
   "source": [
    "plt.figure(figsize=(15, 3)) \n",
    "plt.bar(x,df_purpose['approved_per'] ,width=width,label='Approved', fc='b')\n",
    "for i in range(len(x)):\n",
    "    x[i] += width\n",
    "plt.bar(x, df_purpose['not_approved_per'],width=width,tick_label=df_purpose['purpose'], label='Not Approved',fc='g')\n",
    "plt.title('Loan Purpose Approved Percentage')\n",
    "plt.legend(loc='upper right')\n",
    "plt.ylim(0,0.9)\n",
    "plt.show"
   ]
  },
  {
   "cell_type": "markdown",
   "metadata": {},
   "source": [
    "The purpose of home purchase has higher approved rate than others"
   ]
  },
  {
   "cell_type": "markdown",
   "metadata": {},
   "source": [
    "⑦The property type should you apply for"
   ]
  },
  {
   "cell_type": "code",
   "execution_count": 34,
   "metadata": {},
   "outputs": [
    {
     "data": {
      "text/html": [
       "<div>\n",
       "<style scoped>\n",
       "    .dataframe tbody tr th:only-of-type {\n",
       "        vertical-align: middle;\n",
       "    }\n",
       "\n",
       "    .dataframe tbody tr th {\n",
       "        vertical-align: top;\n",
       "    }\n",
       "\n",
       "    .dataframe thead th {\n",
       "        text-align: right;\n",
       "    }\n",
       "</style>\n",
       "<table border=\"1\" class=\"dataframe\">\n",
       "  <thead>\n",
       "    <tr style=\"text-align: right;\">\n",
       "      <th></th>\n",
       "      <th>property type</th>\n",
       "      <th>approved</th>\n",
       "      <th>not approved</th>\n",
       "      <th>approved_per</th>\n",
       "      <th>not_approved_per</th>\n",
       "    </tr>\n",
       "  </thead>\n",
       "  <tbody>\n",
       "    <tr>\n",
       "      <th>0</th>\n",
       "      <td>Manufactured housing</td>\n",
       "      <td>6004</td>\n",
       "      <td>3841</td>\n",
       "      <td>0.609853</td>\n",
       "      <td>0.390147</td>\n",
       "    </tr>\n",
       "    <tr>\n",
       "      <th>1</th>\n",
       "      <td>One-to-four family dwelling (other than manufa...</td>\n",
       "      <td>235114</td>\n",
       "      <td>81348</td>\n",
       "      <td>0.742945</td>\n",
       "      <td>0.257055</td>\n",
       "    </tr>\n",
       "  </tbody>\n",
       "</table>\n",
       "</div>"
      ],
      "text/plain": [
       "                                       property type  approved  not approved  \\\n",
       "0                               Manufactured housing      6004          3841   \n",
       "1  One-to-four family dwelling (other than manufa...    235114         81348   \n",
       "\n",
       "   approved_per  not_approved_per  \n",
       "0      0.609853          0.390147  \n",
       "1      0.742945          0.257055  "
      ]
     },
     "execution_count": 34,
     "metadata": {},
     "output_type": "execute_result"
    }
   ],
   "source": [
    "df_property=pd.crosstab(df_data['property_type_name'],df_data['loan_status'])\n",
    "df_property=df_property.reset_index()\n",
    "\n",
    "df_property.columns=['property type','approved','not approved']\n",
    "\n",
    "df_property_per=df_property[['approved','not approved']].div(df_property.sum(axis=1), axis=0)\n",
    "df_property_per.columns=['approved_per','not_approved_per']\n",
    "df_property=df_property.merge(df_property_per,left_index=True,right_index=True)\n",
    "df_property\n"
   ]
  },
  {
   "cell_type": "code",
   "execution_count": 35,
   "metadata": {},
   "outputs": [
    {
     "data": {
      "text/plain": [
       "<function matplotlib.pyplot.show(close=None, block=None)>"
      ]
     },
     "execution_count": 35,
     "metadata": {},
     "output_type": "execute_result"
    },
    {
     "data": {
      "image/png": "[encoded data removed]",
      "text/plain": [
       "<Figure size 1080x216 with 1 Axes>"
      ]
     },
     "metadata": {
      "needs_background": "light"
     },
     "output_type": "display_data"
    }
   ],
   "source": [
    "plt.figure(figsize=(15, 3)) \n",
    "b = list(range(2))\n",
    "plt.bar(b,df_property['approved_per'] ,width=width,label='Approved', fc='b')\n",
    "for i in range(len(b)):\n",
    "    b[i] += width\n",
    "plt.bar(b, df_property['not_approved_per'],width=width,tick_label=df_property['property type'], label='Not Approved',fc='g')\n",
    "plt.title('Property Type Approved Percentage')\n",
    "plt.legend(loc='upper right')\n",
    "plt.ylim(0,0.8)\n",
    "plt.show"
   ]
  },
  {
   "cell_type": "markdown",
   "metadata": {},
   "source": [
    "⑧Does the neighbourhood family income affect the chances of getting a loan?"
   ]
  },
  {
   "cell_type": "code",
   "execution_count": 36,
   "metadata": {},
   "outputs": [],
   "source": [
    "df_data['hud_median_family_income_000s']=[x/1000 for x in df_data['hud_median_family_income']]"
   ]
  },
  {
   "cell_type": "code",
   "execution_count": 37,
   "metadata": {},
   "outputs": [],
   "source": [
    "df_approved=df_data[df_data['loan_status']=='approved']\n",
    "df_notapproved=df_data[df_data['loan_status']=='not approved']\n",
    "approved_msamd_diff=df_approved.groupby('msamd_name').median()\n",
    "not_approved_msamd_diff=df_notapproved.groupby('msamd_name').median()\n",
    "approved_msamd_diff=approved_msamd_diff.reset_index()\n",
    "not_approved_msamd_diff=not_approved_msamd_diff.reset_index()"
   ]
  },
  {
   "cell_type": "code",
   "execution_count": 38,
   "metadata": {},
   "outputs": [
    {
     "data": {
      "text/plain": [
       "<function matplotlib.pyplot.show(close=None, block=None)>"
      ]
     },
     "execution_count": 38,
     "metadata": {},
     "output_type": "execute_result"
    },
    {
     "data": {
      "image/png": "[encoded data removed]",
      "text/plain": [
       "<Figure size 1080x216 with 1 Axes>"
      ]
     },
     "metadata": {
      "needs_background": "light"
     },
     "output_type": "display_data"
    }
   ],
   "source": [
    "plt.figure(figsize=(15, 3)) \n",
    "plt.plot(approved_msamd_diff['msamd_name'],approved_msamd_diff['hud_median_family_income_000s'] ,label='Neighborhood median family income',marker=\"o\",color='red')\n",
    "plt.plot(approved_msamd_diff['msamd_name'],approved_msamd_diff['applicant_income_000s'], label='applicant income',marker=\"o\",color='orange')\n",
    "plt.title('Aprroved applicant income difference with neighborhood')\n",
    "\n",
    "plt.legend(loc='upper right')\n",
    "plt.show"
   ]
  },
  {
   "cell_type": "code",
   "execution_count": 39,
   "metadata": {},
   "outputs": [
    {
     "data": {
      "text/plain": [
       "<function matplotlib.pyplot.show(close=None, block=None)>"
      ]
     },
     "execution_count": 39,
     "metadata": {},
     "output_type": "execute_result"
    },
    {
     "data": {
      "image/png": "[encoded data removed]",
      "text/plain": [
       "<Figure size 1080x216 with 1 Axes>"
      ]
     },
     "metadata": {
      "needs_background": "light"
     },
     "output_type": "display_data"
    }
   ],
   "source": [
    "plt.figure(figsize=(15, 3)) \n",
    "plt.plot(not_approved_msamd_diff['msamd_name'],not_approved_msamd_diff['hud_median_family_income_000s'] ,label='Neighborhood median family income',marker=\"o\",color='red')\n",
    "plt.plot(not_approved_msamd_diff['msamd_name'],not_approved_msamd_diff['applicant_income_000s'], label='applicant income',marker=\"o\",color='orange')\n",
    "plt.title('Not Aprroved applicant income difference with neighborhood')\n",
    "plt.legend(loc='upper right')\n",
    "plt.show"
   ]
  },
  {
   "cell_type": "markdown",
   "metadata": {},
   "source": [
    "From the picture above, we find the approved applicant income is clearly higher than the neighborhood median family income. But most of the not approved applicant are lower than their neighborhood."
   ]
  },
  {
   "cell_type": "code",
   "execution_count": 40,
   "metadata": {},
   "outputs": [],
   "source": [
    "df_data['income_higher_than_neighbor'] = np.where(df_data['hud_median_family_income_000s']< df_data['applicant_income_000s'], True, False)"
   ]
  },
  {
   "cell_type": "markdown",
   "metadata": {},
   "source": [
    "After find the relevant varables, dop the unuesful columns and transform all variables into numerical variables¶"
   ]
  },
  {
   "cell_type": "code",
   "execution_count": 41,
   "metadata": {},
   "outputs": [
    {
     "data": {
      "text/plain": [
       "Index(['property_type_name', 'owner_occupancy_name', 'loan_type_name',\n",
       "       'loan_purpose_name', 'applicant_sex_name', 'applicant_race_name_1',\n",
       "       'applicant_ethnicity_name', 'loan_status', 'income<1000',\n",
       "       'loan_amount<2000', 'income_higher_than_neighbor'],\n",
       "      dtype='object')"
      ]
     },
     "execution_count": 41,
     "metadata": {},
     "output_type": "execute_result"
    }
   ],
   "source": [
    "df_data.drop(columns=['tract_to_msamd_income','minority_population','number_of_owner_occupied_units','number_of_1_to_4_family_units','loan_amount_000s','hud_median_family_income',\n",
    "                  'applicant_income_000s','state_name','state_abbr','sequence_number','respondent_id','purchaser_type_name','preapproval_name', 'msamd_name', 'lien_status_name', 'hoepa_status_name',\n",
    "       'county_name', 'co_applicant_sex_name', 'co_applicant_race_name_1',\n",
    "       'co_applicant_ethnicity_name', 'census_tract_number','hud_median_family_income_000s',\n",
    "       'application_date_indicator', 'agency_name','action_taken_name',\n",
    "       'agency_abbr'],inplace=True)\n",
    "df_data.columns"
   ]
  },
  {
   "cell_type": "code",
   "execution_count": 42,
   "metadata": {},
   "outputs": [
    {
     "data": {
      "text/html": [
       "<div>\n",
       "<style scoped>\n",
       "    .dataframe tbody tr th:only-of-type {\n",
       "        vertical-align: middle;\n",
       "    }\n",
       "\n",
       "    .dataframe tbody tr th {\n",
       "        vertical-align: top;\n",
       "    }\n",
       "\n",
       "    .dataframe thead th {\n",
       "        text-align: right;\n",
       "    }\n",
       "</style>\n",
       "<table border=\"1\" class=\"dataframe\">\n",
       "  <thead>\n",
       "    <tr style=\"text-align: right;\">\n",
       "      <th></th>\n",
       "      <th>property_type_name</th>\n",
       "      <th>owner_occupancy_name</th>\n",
       "      <th>loan_type_name</th>\n",
       "      <th>loan_purpose_name</th>\n",
       "      <th>applicant_sex_name</th>\n",
       "      <th>applicant_race_name_1</th>\n",
       "      <th>applicant_ethnicity_name</th>\n",
       "      <th>loan_status</th>\n",
       "      <th>income&lt;1000</th>\n",
       "      <th>loan_amount&lt;2000</th>\n",
       "      <th>income_higher_than_neighbor</th>\n",
       "    </tr>\n",
       "  </thead>\n",
       "  <tbody>\n",
       "    <tr>\n",
       "      <th>0</th>\n",
       "      <td>One-to-four family dwelling (other than manufa...</td>\n",
       "      <td>Owner-occupied as a principal dwelling</td>\n",
       "      <td>Conventional</td>\n",
       "      <td>Refinancing</td>\n",
       "      <td>Female</td>\n",
       "      <td>Not applicable</td>\n",
       "      <td>Not Hispanic or Latino</td>\n",
       "      <td>approved</td>\n",
       "      <td>True</td>\n",
       "      <td>True</td>\n",
       "      <td>True</td>\n",
       "    </tr>\n",
       "    <tr>\n",
       "      <th>1</th>\n",
       "      <td>One-to-four family dwelling (other than manufa...</td>\n",
       "      <td>Owner-occupied as a principal dwelling</td>\n",
       "      <td>FHA-insured</td>\n",
       "      <td>Home purchase</td>\n",
       "      <td>Male</td>\n",
       "      <td>White</td>\n",
       "      <td>Hispanic or Latino</td>\n",
       "      <td>approved</td>\n",
       "      <td>True</td>\n",
       "      <td>True</td>\n",
       "      <td>False</td>\n",
       "    </tr>\n",
       "    <tr>\n",
       "      <th>2</th>\n",
       "      <td>One-to-four family dwelling (other than manufa...</td>\n",
       "      <td>Owner-occupied as a principal dwelling</td>\n",
       "      <td>Conventional</td>\n",
       "      <td>Refinancing</td>\n",
       "      <td>Male</td>\n",
       "      <td>White</td>\n",
       "      <td>Not Hispanic or Latino</td>\n",
       "      <td>approved</td>\n",
       "      <td>True</td>\n",
       "      <td>True</td>\n",
       "      <td>True</td>\n",
       "    </tr>\n",
       "    <tr>\n",
       "      <th>3</th>\n",
       "      <td>One-to-four family dwelling (other than manufa...</td>\n",
       "      <td>Owner-occupied as a principal dwelling</td>\n",
       "      <td>Conventional</td>\n",
       "      <td>Refinancing</td>\n",
       "      <td>Male</td>\n",
       "      <td>Not applicable</td>\n",
       "      <td>Not applicable</td>\n",
       "      <td>approved</td>\n",
       "      <td>True</td>\n",
       "      <td>True</td>\n",
       "      <td>True</td>\n",
       "    </tr>\n",
       "    <tr>\n",
       "      <th>4</th>\n",
       "      <td>One-to-four family dwelling (other than manufa...</td>\n",
       "      <td>Owner-occupied as a principal dwelling</td>\n",
       "      <td>Conventional</td>\n",
       "      <td>Home improvement</td>\n",
       "      <td>Female</td>\n",
       "      <td>White</td>\n",
       "      <td>Not Hispanic or Latino</td>\n",
       "      <td>approved</td>\n",
       "      <td>True</td>\n",
       "      <td>True</td>\n",
       "      <td>True</td>\n",
       "    </tr>\n",
       "  </tbody>\n",
       "</table>\n",
       "</div>"
      ],
      "text/plain": [
       "                                  property_type_name  \\\n",
       "0  One-to-four family dwelling (other than manufa...   \n",
       "1  One-to-four family dwelling (other than manufa...   \n",
       "2  One-to-four family dwelling (other than manufa...   \n",
       "3  One-to-four family dwelling (other than manufa...   \n",
       "4  One-to-four family dwelling (other than manufa...   \n",
       "\n",
       "                     owner_occupancy_name loan_type_name loan_purpose_name  \\\n",
       "0  Owner-occupied as a principal dwelling   Conventional       Refinancing   \n",
       "1  Owner-occupied as a principal dwelling    FHA-insured     Home purchase   \n",
       "2  Owner-occupied as a principal dwelling   Conventional       Refinancing   \n",
       "3  Owner-occupied as a principal dwelling   Conventional       Refinancing   \n",
       "4  Owner-occupied as a principal dwelling   Conventional  Home improvement   \n",
       "\n",
       "  applicant_sex_name applicant_race_name_1 applicant_ethnicity_name  \\\n",
       "0             Female        Not applicable   Not Hispanic or Latino   \n",
       "1               Male                 White       Hispanic or Latino   \n",
       "2               Male                 White   Not Hispanic or Latino   \n",
       "3               Male        Not applicable           Not applicable   \n",
       "4             Female                 White   Not Hispanic or Latino   \n",
       "\n",
       "  loan_status  income<1000  loan_amount<2000  income_higher_than_neighbor  \n",
       "0    approved         True              True                         True  \n",
       "1    approved         True              True                        False  \n",
       "2    approved         True              True                         True  \n",
       "3    approved         True              True                         True  \n",
       "4    approved         True              True                         True  "
      ]
     },
     "execution_count": 42,
     "metadata": {},
     "output_type": "execute_result"
    }
   ],
   "source": [
    "df_data.head()"
   ]
  },
  {
   "cell_type": "code",
   "execution_count": 43,
   "metadata": {},
   "outputs": [
    {
     "name": "stdout",
     "output_type": "stream",
     "text": [
      "<class 'pandas.core.frame.DataFrame'>\n",
      "Int64Index: 326307 entries, 0 to 466565\n",
      "Data columns (total 11 columns):\n",
      " #   Column                       Non-Null Count   Dtype \n",
      "---  ------                       --------------   ----- \n",
      " 0   property_type_name           326307 non-null  object\n",
      " 1   owner_occupancy_name         326307 non-null  object\n",
      " 2   loan_type_name               326307 non-null  object\n",
      " 3   loan_purpose_name            326307 non-null  object\n",
      " 4   applicant_sex_name           326307 non-null  object\n",
      " 5   applicant_race_name_1        326307 non-null  object\n",
      " 6   applicant_ethnicity_name     326307 non-null  object\n",
      " 7   loan_status                  326307 non-null  object\n",
      " 8   income<1000                  326307 non-null  bool  \n",
      " 9   loan_amount<2000             326307 non-null  bool  \n",
      " 10  income_higher_than_neighbor  326307 non-null  bool  \n",
      "dtypes: bool(3), object(8)\n",
      "memory usage: 23.3+ MB\n"
     ]
    }
   ],
   "source": [
    "df_data.info()"
   ]
  },
  {
   "cell_type": "code",
   "execution_count": 44,
   "metadata": {},
   "outputs": [
    {
     "data": {
      "text/html": [
       "<div>\n",
       "<style scoped>\n",
       "    .dataframe tbody tr th:only-of-type {\n",
       "        vertical-align: middle;\n",
       "    }\n",
       "\n",
       "    .dataframe tbody tr th {\n",
       "        vertical-align: top;\n",
       "    }\n",
       "\n",
       "    .dataframe thead th {\n",
       "        text-align: right;\n",
       "    }\n",
       "</style>\n",
       "<table border=\"1\" class=\"dataframe\">\n",
       "  <thead>\n",
       "    <tr style=\"text-align: right;\">\n",
       "      <th></th>\n",
       "      <th>income&lt;1000</th>\n",
       "      <th>loan_amount&lt;2000</th>\n",
       "      <th>income_higher_than_neighbor</th>\n",
       "      <th>property_type_name_Manufactured housing</th>\n",
       "      <th>property_type_name_One-to-four family dwelling (other than manufactured housing)</th>\n",
       "      <th>owner_occupancy_name_Not applicable</th>\n",
       "      <th>owner_occupancy_name_Not owner-occupied as a principal dwelling</th>\n",
       "      <th>owner_occupancy_name_Owner-occupied as a principal dwelling</th>\n",
       "      <th>loan_type_name_Conventional</th>\n",
       "      <th>loan_type_name_FHA-insured</th>\n",
       "      <th>...</th>\n",
       "      <th>applicant_race_name_1_Asian</th>\n",
       "      <th>applicant_race_name_1_Black or African American</th>\n",
       "      <th>applicant_race_name_1_Native Hawaiian or Other Pacific Islander</th>\n",
       "      <th>applicant_race_name_1_Not applicable</th>\n",
       "      <th>applicant_race_name_1_White</th>\n",
       "      <th>applicant_ethnicity_name_Hispanic or Latino</th>\n",
       "      <th>applicant_ethnicity_name_Not Hispanic or Latino</th>\n",
       "      <th>applicant_ethnicity_name_Not applicable</th>\n",
       "      <th>loan_status_approved</th>\n",
       "      <th>loan_status_not approved</th>\n",
       "    </tr>\n",
       "  </thead>\n",
       "  <tbody>\n",
       "    <tr>\n",
       "      <th>0</th>\n",
       "      <td>True</td>\n",
       "      <td>True</td>\n",
       "      <td>True</td>\n",
       "      <td>0</td>\n",
       "      <td>1</td>\n",
       "      <td>0</td>\n",
       "      <td>0</td>\n",
       "      <td>1</td>\n",
       "      <td>1</td>\n",
       "      <td>0</td>\n",
       "      <td>...</td>\n",
       "      <td>0</td>\n",
       "      <td>0</td>\n",
       "      <td>0</td>\n",
       "      <td>1</td>\n",
       "      <td>0</td>\n",
       "      <td>0</td>\n",
       "      <td>1</td>\n",
       "      <td>0</td>\n",
       "      <td>1</td>\n",
       "      <td>0</td>\n",
       "    </tr>\n",
       "    <tr>\n",
       "      <th>1</th>\n",
       "      <td>True</td>\n",
       "      <td>True</td>\n",
       "      <td>False</td>\n",
       "      <td>0</td>\n",
       "      <td>1</td>\n",
       "      <td>0</td>\n",
       "      <td>0</td>\n",
       "      <td>1</td>\n",
       "      <td>0</td>\n",
       "      <td>1</td>\n",
       "      <td>...</td>\n",
       "      <td>0</td>\n",
       "      <td>0</td>\n",
       "      <td>0</td>\n",
       "      <td>0</td>\n",
       "      <td>1</td>\n",
       "      <td>1</td>\n",
       "      <td>0</td>\n",
       "      <td>0</td>\n",
       "      <td>1</td>\n",
       "      <td>0</td>\n",
       "    </tr>\n",
       "    <tr>\n",
       "      <th>2</th>\n",
       "      <td>True</td>\n",
       "      <td>True</td>\n",
       "      <td>True</td>\n",
       "      <td>0</td>\n",
       "      <td>1</td>\n",
       "      <td>0</td>\n",
       "      <td>0</td>\n",
       "      <td>1</td>\n",
       "      <td>1</td>\n",
       "      <td>0</td>\n",
       "      <td>...</td>\n",
       "      <td>0</td>\n",
       "      <td>0</td>\n",
       "      <td>0</td>\n",
       "      <td>0</td>\n",
       "      <td>1</td>\n",
       "      <td>0</td>\n",
       "      <td>1</td>\n",
       "      <td>0</td>\n",
       "      <td>1</td>\n",
       "      <td>0</td>\n",
       "    </tr>\n",
       "    <tr>\n",
       "      <th>3</th>\n",
       "      <td>True</td>\n",
       "      <td>True</td>\n",
       "      <td>True</td>\n",
       "      <td>0</td>\n",
       "      <td>1</td>\n",
       "      <td>0</td>\n",
       "      <td>0</td>\n",
       "      <td>1</td>\n",
       "      <td>1</td>\n",
       "      <td>0</td>\n",
       "      <td>...</td>\n",
       "      <td>0</td>\n",
       "      <td>0</td>\n",
       "      <td>0</td>\n",
       "      <td>1</td>\n",
       "      <td>0</td>\n",
       "      <td>0</td>\n",
       "      <td>0</td>\n",
       "      <td>1</td>\n",
       "      <td>1</td>\n",
       "      <td>0</td>\n",
       "    </tr>\n",
       "    <tr>\n",
       "      <th>4</th>\n",
       "      <td>True</td>\n",
       "      <td>True</td>\n",
       "      <td>True</td>\n",
       "      <td>0</td>\n",
       "      <td>1</td>\n",
       "      <td>0</td>\n",
       "      <td>0</td>\n",
       "      <td>1</td>\n",
       "      <td>1</td>\n",
       "      <td>0</td>\n",
       "      <td>...</td>\n",
       "      <td>0</td>\n",
       "      <td>0</td>\n",
       "      <td>0</td>\n",
       "      <td>0</td>\n",
       "      <td>1</td>\n",
       "      <td>0</td>\n",
       "      <td>1</td>\n",
       "      <td>0</td>\n",
       "      <td>1</td>\n",
       "      <td>0</td>\n",
       "    </tr>\n",
       "  </tbody>\n",
       "</table>\n",
       "<p>5 rows × 29 columns</p>\n",
       "</div>"
      ],
      "text/plain": [
       "   income<1000  loan_amount<2000  income_higher_than_neighbor  \\\n",
       "0         True              True                         True   \n",
       "1         True              True                        False   \n",
       "2         True              True                         True   \n",
       "3         True              True                         True   \n",
       "4         True              True                         True   \n",
       "\n",
       "   property_type_name_Manufactured housing  \\\n",
       "0                                        0   \n",
       "1                                        0   \n",
       "2                                        0   \n",
       "3                                        0   \n",
       "4                                        0   \n",
       "\n",
       "   property_type_name_One-to-four family dwelling (other than manufactured housing)  \\\n",
       "0                                                  1                                  \n",
       "1                                                  1                                  \n",
       "2                                                  1                                  \n",
       "3                                                  1                                  \n",
       "4                                                  1                                  \n",
       "\n",
       "   owner_occupancy_name_Not applicable  \\\n",
       "0                                    0   \n",
       "1                                    0   \n",
       "2                                    0   \n",
       "3                                    0   \n",
       "4                                    0   \n",
       "\n",
       "   owner_occupancy_name_Not owner-occupied as a principal dwelling  \\\n",
       "0                                                  0                 \n",
       "1                                                  0                 \n",
       "2                                                  0                 \n",
       "3                                                  0                 \n",
       "4                                                  0                 \n",
       "\n",
       "   owner_occupancy_name_Owner-occupied as a principal dwelling  \\\n",
       "0                                                  1             \n",
       "1                                                  1             \n",
       "2                                                  1             \n",
       "3                                                  1             \n",
       "4                                                  1             \n",
       "\n",
       "   loan_type_name_Conventional  loan_type_name_FHA-insured  ...  \\\n",
       "0                            1                           0  ...   \n",
       "1                            0                           1  ...   \n",
       "2                            1                           0  ...   \n",
       "3                            1                           0  ...   \n",
       "4                            1                           0  ...   \n",
       "\n",
       "   applicant_race_name_1_Asian  \\\n",
       "0                            0   \n",
       "1                            0   \n",
       "2                            0   \n",
       "3                            0   \n",
       "4                            0   \n",
       "\n",
       "   applicant_race_name_1_Black or African American  \\\n",
       "0                                                0   \n",
       "1                                                0   \n",
       "2                                                0   \n",
       "3                                                0   \n",
       "4                                                0   \n",
       "\n",
       "   applicant_race_name_1_Native Hawaiian or Other Pacific Islander  \\\n",
       "0                                                  0                 \n",
       "1                                                  0                 \n",
       "2                                                  0                 \n",
       "3                                                  0                 \n",
       "4                                                  0                 \n",
       "\n",
       "   applicant_race_name_1_Not applicable  applicant_race_name_1_White  \\\n",
       "0                                     1                            0   \n",
       "1                                     0                            1   \n",
       "2                                     0                            1   \n",
       "3                                     1                            0   \n",
       "4                                     0                            1   \n",
       "\n",
       "   applicant_ethnicity_name_Hispanic or Latino  \\\n",
       "0                                            0   \n",
       "1                                            1   \n",
       "2                                            0   \n",
       "3                                            0   \n",
       "4                                            0   \n",
       "\n",
       "   applicant_ethnicity_name_Not Hispanic or Latino  \\\n",
       "0                                                1   \n",
       "1                                                0   \n",
       "2                                                1   \n",
       "3                                                0   \n",
       "4                                                1   \n",
       "\n",
       "   applicant_ethnicity_name_Not applicable  loan_status_approved  \\\n",
       "0                                        0                     1   \n",
       "1                                        0                     1   \n",
       "2                                        0                     1   \n",
       "3                                        1                     1   \n",
       "4                                        0                     1   \n",
       "\n",
       "   loan_status_not approved  \n",
       "0                         0  \n",
       "1                         0  \n",
       "2                         0  \n",
       "3                         0  \n",
       "4                         0  \n",
       "\n",
       "[5 rows x 29 columns]"
      ]
     },
     "execution_count": 44,
     "metadata": {},
     "output_type": "execute_result"
    }
   ],
   "source": [
    "df = pd.get_dummies(df_data)\n",
    "df.head()"
   ]
  },
  {
   "cell_type": "code",
   "execution_count": 45,
   "metadata": {},
   "outputs": [
    {
     "data": {
      "text/html": [
       "<div>\n",
       "<style scoped>\n",
       "    .dataframe tbody tr th:only-of-type {\n",
       "        vertical-align: middle;\n",
       "    }\n",
       "\n",
       "    .dataframe tbody tr th {\n",
       "        vertical-align: top;\n",
       "    }\n",
       "\n",
       "    .dataframe thead th {\n",
       "        text-align: right;\n",
       "    }\n",
       "</style>\n",
       "<table border=\"1\" class=\"dataframe\">\n",
       "  <thead>\n",
       "    <tr style=\"text-align: right;\">\n",
       "      <th></th>\n",
       "      <th>income&lt;1000</th>\n",
       "      <th>loan_amount&lt;2000</th>\n",
       "      <th>income_higher_than_neighbor</th>\n",
       "      <th>property_type_name_Manufactured housing</th>\n",
       "      <th>property_type_name_One-to-four family dwelling (other than manufactured housing)</th>\n",
       "      <th>owner_occupancy_name_Not applicable</th>\n",
       "      <th>owner_occupancy_name_Not owner-occupied as a principal dwelling</th>\n",
       "      <th>owner_occupancy_name_Owner-occupied as a principal dwelling</th>\n",
       "      <th>loan_type_name_Conventional</th>\n",
       "      <th>loan_type_name_FHA-insured</th>\n",
       "      <th>...</th>\n",
       "      <th>applicant_race_name_1_American Indian or Alaska Native</th>\n",
       "      <th>applicant_race_name_1_Asian</th>\n",
       "      <th>applicant_race_name_1_Black or African American</th>\n",
       "      <th>applicant_race_name_1_Native Hawaiian or Other Pacific Islander</th>\n",
       "      <th>applicant_race_name_1_Not applicable</th>\n",
       "      <th>applicant_race_name_1_White</th>\n",
       "      <th>applicant_ethnicity_name_Hispanic or Latino</th>\n",
       "      <th>applicant_ethnicity_name_Not Hispanic or Latino</th>\n",
       "      <th>applicant_ethnicity_name_Not applicable</th>\n",
       "      <th>loan_status_approved</th>\n",
       "    </tr>\n",
       "  </thead>\n",
       "  <tbody>\n",
       "    <tr>\n",
       "      <th>0</th>\n",
       "      <td>True</td>\n",
       "      <td>True</td>\n",
       "      <td>True</td>\n",
       "      <td>0</td>\n",
       "      <td>1</td>\n",
       "      <td>0</td>\n",
       "      <td>0</td>\n",
       "      <td>1</td>\n",
       "      <td>1</td>\n",
       "      <td>0</td>\n",
       "      <td>...</td>\n",
       "      <td>0</td>\n",
       "      <td>0</td>\n",
       "      <td>0</td>\n",
       "      <td>0</td>\n",
       "      <td>1</td>\n",
       "      <td>0</td>\n",
       "      <td>0</td>\n",
       "      <td>1</td>\n",
       "      <td>0</td>\n",
       "      <td>1</td>\n",
       "    </tr>\n",
       "    <tr>\n",
       "      <th>1</th>\n",
       "      <td>True</td>\n",
       "      <td>True</td>\n",
       "      <td>False</td>\n",
       "      <td>0</td>\n",
       "      <td>1</td>\n",
       "      <td>0</td>\n",
       "      <td>0</td>\n",
       "      <td>1</td>\n",
       "      <td>0</td>\n",
       "      <td>1</td>\n",
       "      <td>...</td>\n",
       "      <td>0</td>\n",
       "      <td>0</td>\n",
       "      <td>0</td>\n",
       "      <td>0</td>\n",
       "      <td>0</td>\n",
       "      <td>1</td>\n",
       "      <td>1</td>\n",
       "      <td>0</td>\n",
       "      <td>0</td>\n",
       "      <td>1</td>\n",
       "    </tr>\n",
       "    <tr>\n",
       "      <th>2</th>\n",
       "      <td>True</td>\n",
       "      <td>True</td>\n",
       "      <td>True</td>\n",
       "      <td>0</td>\n",
       "      <td>1</td>\n",
       "      <td>0</td>\n",
       "      <td>0</td>\n",
       "      <td>1</td>\n",
       "      <td>1</td>\n",
       "      <td>0</td>\n",
       "      <td>...</td>\n",
       "      <td>0</td>\n",
       "      <td>0</td>\n",
       "      <td>0</td>\n",
       "      <td>0</td>\n",
       "      <td>0</td>\n",
       "      <td>1</td>\n",
       "      <td>0</td>\n",
       "      <td>1</td>\n",
       "      <td>0</td>\n",
       "      <td>1</td>\n",
       "    </tr>\n",
       "    <tr>\n",
       "      <th>3</th>\n",
       "      <td>True</td>\n",
       "      <td>True</td>\n",
       "      <td>True</td>\n",
       "      <td>0</td>\n",
       "      <td>1</td>\n",
       "      <td>0</td>\n",
       "      <td>0</td>\n",
       "      <td>1</td>\n",
       "      <td>1</td>\n",
       "      <td>0</td>\n",
       "      <td>...</td>\n",
       "      <td>0</td>\n",
       "      <td>0</td>\n",
       "      <td>0</td>\n",
       "      <td>0</td>\n",
       "      <td>1</td>\n",
       "      <td>0</td>\n",
       "      <td>0</td>\n",
       "      <td>0</td>\n",
       "      <td>1</td>\n",
       "      <td>1</td>\n",
       "    </tr>\n",
       "    <tr>\n",
       "      <th>4</th>\n",
       "      <td>True</td>\n",
       "      <td>True</td>\n",
       "      <td>True</td>\n",
       "      <td>0</td>\n",
       "      <td>1</td>\n",
       "      <td>0</td>\n",
       "      <td>0</td>\n",
       "      <td>1</td>\n",
       "      <td>1</td>\n",
       "      <td>0</td>\n",
       "      <td>...</td>\n",
       "      <td>0</td>\n",
       "      <td>0</td>\n",
       "      <td>0</td>\n",
       "      <td>0</td>\n",
       "      <td>0</td>\n",
       "      <td>1</td>\n",
       "      <td>0</td>\n",
       "      <td>1</td>\n",
       "      <td>0</td>\n",
       "      <td>1</td>\n",
       "    </tr>\n",
       "  </tbody>\n",
       "</table>\n",
       "<p>5 rows × 28 columns</p>\n",
       "</div>"
      ],
      "text/plain": [
       "   income<1000  loan_amount<2000  income_higher_than_neighbor  \\\n",
       "0         True              True                         True   \n",
       "1         True              True                        False   \n",
       "2         True              True                         True   \n",
       "3         True              True                         True   \n",
       "4         True              True                         True   \n",
       "\n",
       "   property_type_name_Manufactured housing  \\\n",
       "0                                        0   \n",
       "1                                        0   \n",
       "2                                        0   \n",
       "3                                        0   \n",
       "4                                        0   \n",
       "\n",
       "   property_type_name_One-to-four family dwelling (other than manufactured housing)  \\\n",
       "0                                                  1                                  \n",
       "1                                                  1                                  \n",
       "2                                                  1                                  \n",
       "3                                                  1                                  \n",
       "4                                                  1                                  \n",
       "\n",
       "   owner_occupancy_name_Not applicable  \\\n",
       "0                                    0   \n",
       "1                                    0   \n",
       "2                                    0   \n",
       "3                                    0   \n",
       "4                                    0   \n",
       "\n",
       "   owner_occupancy_name_Not owner-occupied as a principal dwelling  \\\n",
       "0                                                  0                 \n",
       "1                                                  0                 \n",
       "2                                                  0                 \n",
       "3                                                  0                 \n",
       "4                                                  0                 \n",
       "\n",
       "   owner_occupancy_name_Owner-occupied as a principal dwelling  \\\n",
       "0                                                  1             \n",
       "1                                                  1             \n",
       "2                                                  1             \n",
       "3                                                  1             \n",
       "4                                                  1             \n",
       "\n",
       "   loan_type_name_Conventional  loan_type_name_FHA-insured  ...  \\\n",
       "0                            1                           0  ...   \n",
       "1                            0                           1  ...   \n",
       "2                            1                           0  ...   \n",
       "3                            1                           0  ...   \n",
       "4                            1                           0  ...   \n",
       "\n",
       "   applicant_race_name_1_American Indian or Alaska Native  \\\n",
       "0                                                  0        \n",
       "1                                                  0        \n",
       "2                                                  0        \n",
       "3                                                  0        \n",
       "4                                                  0        \n",
       "\n",
       "   applicant_race_name_1_Asian  \\\n",
       "0                            0   \n",
       "1                            0   \n",
       "2                            0   \n",
       "3                            0   \n",
       "4                            0   \n",
       "\n",
       "   applicant_race_name_1_Black or African American  \\\n",
       "0                                                0   \n",
       "1                                                0   \n",
       "2                                                0   \n",
       "3                                                0   \n",
       "4                                                0   \n",
       "\n",
       "   applicant_race_name_1_Native Hawaiian or Other Pacific Islander  \\\n",
       "0                                                  0                 \n",
       "1                                                  0                 \n",
       "2                                                  0                 \n",
       "3                                                  0                 \n",
       "4                                                  0                 \n",
       "\n",
       "   applicant_race_name_1_Not applicable  applicant_race_name_1_White  \\\n",
       "0                                     1                            0   \n",
       "1                                     0                            1   \n",
       "2                                     0                            1   \n",
       "3                                     1                            0   \n",
       "4                                     0                            1   \n",
       "\n",
       "   applicant_ethnicity_name_Hispanic or Latino  \\\n",
       "0                                            0   \n",
       "1                                            1   \n",
       "2                                            0   \n",
       "3                                            0   \n",
       "4                                            0   \n",
       "\n",
       "   applicant_ethnicity_name_Not Hispanic or Latino  \\\n",
       "0                                                1   \n",
       "1                                                0   \n",
       "2                                                1   \n",
       "3                                                0   \n",
       "4                                                1   \n",
       "\n",
       "   applicant_ethnicity_name_Not applicable  loan_status_approved  \n",
       "0                                        0                     1  \n",
       "1                                        0                     1  \n",
       "2                                        0                     1  \n",
       "3                                        1                     1  \n",
       "4                                        0                     1  \n",
       "\n",
       "[5 rows x 28 columns]"
      ]
     },
     "execution_count": 45,
     "metadata": {},
     "output_type": "execute_result"
    }
   ],
   "source": [
    "df.drop(columns=['loan_status_not approved'],inplace=True)\n",
    "df.head()"
   ]
  },
  {
   "cell_type": "code",
   "execution_count": 46,
   "metadata": {},
   "outputs": [],
   "source": [
    "X=df.drop(['loan_status_approved'], axis=1)\n",
    "Y=df['loan_status_approved']"
   ]
  },
  {
   "cell_type": "code",
   "execution_count": 47,
   "metadata": {},
   "outputs": [],
   "source": [
    "X_train, X_test, y_train, y_test = train_test_split(X, Y, test_size=0.33, random_state=9)"
   ]
  },
  {
   "cell_type": "code",
   "execution_count": 48,
   "metadata": {},
   "outputs": [
    {
     "data": {
      "text/plain": [
       "DecisionTreeClassifier(max_depth=11)"
      ]
     },
     "execution_count": 48,
     "metadata": {},
     "output_type": "execute_result"
    }
   ],
   "source": [
    "clf = tree.DecisionTreeClassifier(max_depth=11)\n",
    "\n",
    "# Train our model \n",
    "clf.fit(X_train, y_train)"
   ]
  },
  {
   "cell_type": "code",
   "execution_count": 49,
   "metadata": {},
   "outputs": [
    {
     "name": "stdout",
     "output_type": "stream",
     "text": [
      "80394\n"
     ]
    }
   ],
   "source": [
    "y_pred = clf.predict(X_test)\n",
    "print(sum(y_pred==y_test))"
   ]
  },
  {
   "cell_type": "code",
   "execution_count": 50,
   "metadata": {},
   "outputs": [
    {
     "name": "stdout",
     "output_type": "stream",
     "text": [
      "              precision    recall  f1-score   support\n",
      "\n",
      "           0       0.56      0.12      0.20     28000\n",
      "           1       0.76      0.97      0.85     79682\n",
      "\n",
      "    accuracy                           0.75    107682\n",
      "   macro avg       0.66      0.54      0.53    107682\n",
      "weighted avg       0.71      0.75      0.68    107682\n",
      "\n"
     ]
    }
   ],
   "source": [
    "print(metrics.classification_report(y_test,y_pred))"
   ]
  },
  {
   "cell_type": "code",
   "execution_count": 51,
   "metadata": {},
   "outputs": [
    {
     "data": {
      "image/png": "[encoded data removed]",
      "text/plain": [
       "<Figure size 432x288 with 1 Axes>"
      ]
     },
     "metadata": {
      "needs_background": "light"
     },
     "output_type": "display_data"
    }
   ],
   "source": [
    "# Setup arrays to store train and test accuracies\n",
    "dep = np.arange(1, 20)\n",
    "train_accuracy = np.empty(len(dep))\n",
    "test_accuracy = np.empty(len(dep))\n",
    "\n",
    "# Loop over different values of k\n",
    "for i, k in enumerate(dep):\n",
    "    # Setup a k-NN Classifier with k neighbors: knn\n",
    "    clf = tree.DecisionTreeClassifier(max_depth=k)\n",
    "\n",
    "    # Fit the classifier to the training data\n",
    "    clf.fit(X_train, y_train)\n",
    "    \n",
    "    #Compute accuracy on the training set\n",
    "    train_accuracy[i] = clf.score(X_train, y_train)\n",
    "\n",
    "    #Compute accuracy on the testing set\n",
    "    test_accuracy[i] = clf.score(X_test, y_test)\n",
    "\n",
    "# Generate plot\n",
    "plt.title('clf: Varying depth of tree')\n",
    "plt.plot(dep, test_accuracy, label = 'Testing Accuracy',marker=\"o\")\n",
    "plt.plot(dep, train_accuracy, label = 'Training Accuracy',marker=\"o\")\n",
    "plt.legend()\n",
    "plt.xlabel('Depth of tree')\n",
    "plt.ylabel('Accuracy')\n",
    "plt.show()"
   ]
  },
  {
   "cell_type": "code",
   "execution_count": 52,
   "metadata": {},
   "outputs": [
    {
     "data": {
      "image/png": "[encoded data removed]",
      "text/plain": [
       "<Figure size 360x360 with 2 Axes>"
      ]
     },
     "metadata": {
      "needs_background": "light"
     },
     "output_type": "display_data"
    }
   ],
   "source": [
    "cm = pd.crosstab(y_test, y_pred, rownames=['Actual'], colnames=['Predicted'])\n",
    "fig, (ax1) = plt.subplots(ncols=1, figsize=(5,5))\n",
    "sns.heatmap(cm, \n",
    "            xticklabels=['Not Approved', 'Approved'],\n",
    "            yticklabels=['Not Approved', 'Approved'],\n",
    "            annot=True,ax=ax1,\n",
    "            linewidths=.2,linecolor=\"Darkblue\", cmap=\"Blues\")\n",
    "plt.title('Confusion Matrix', fontsize=14)\n",
    "plt.show()"
   ]
  },
  {
   "cell_type": "code",
   "execution_count": 53,
   "metadata": {},
   "outputs": [
    {
     "data": {
      "text/plain": [
       "RandomForestClassifier(random_state=9)"
      ]
     },
     "execution_count": 53,
     "metadata": {},
     "output_type": "execute_result"
    }
   ],
   "source": [
    "from sklearn.ensemble import RandomForestClassifier\n",
    "model = RandomForestClassifier(random_state=9,n_estimators=100)\n",
    "model.fit(X_train, y_train)"
   ]
  },
  {
   "cell_type": "code",
   "execution_count": 54,
   "metadata": {},
   "outputs": [],
   "source": [
    "y_pred2=model.predict(X_test)"
   ]
  },
  {
   "cell_type": "code",
   "execution_count": 55,
   "metadata": {},
   "outputs": [
    {
     "name": "stdout",
     "output_type": "stream",
     "text": [
      "              precision    recall  f1-score   support\n",
      "\n",
      "           0       0.56      0.12      0.20     28000\n",
      "           1       0.76      0.97      0.85     79682\n",
      "\n",
      "    accuracy                           0.75    107682\n",
      "   macro avg       0.66      0.54      0.53    107682\n",
      "weighted avg       0.71      0.75      0.68    107682\n",
      "\n"
     ]
    }
   ],
   "source": [
    "print(metrics.classification_report(y_test,y_pred2))"
   ]
  },
  {
   "cell_type": "code",
   "execution_count": 56,
   "metadata": {},
   "outputs": [
    {
     "data": {
      "image/png": "[encoded data removed]",
      "text/plain": [
       "<Figure size 360x360 with 2 Axes>"
      ]
     },
     "metadata": {
      "needs_background": "light"
     },
     "output_type": "display_data"
    }
   ],
   "source": [
    "cm = pd.crosstab(y_test, y_pred2, rownames=['Actual'], colnames=['Predicted'])\n",
    "fig, (ax1) = plt.subplots(ncols=1, figsize=(5,5))\n",
    "sns.heatmap(cm, \n",
    "            xticklabels=['Not Approved', 'Approved'],\n",
    "            yticklabels=['Not Approved', 'Approved'],\n",
    "            annot=True,ax=ax1,\n",
    "            linewidths=.2,linecolor=\"Darkblue\", cmap=\"Blues\")\n",
    "plt.title('Confusion Matrix', fontsize=14)\n",
    "plt.show()"
   ]
  },
  {
   "cell_type": "code",
   "execution_count": 88,
   "metadata": {},
   "outputs": [
    {
     "name": "stdout",
     "output_type": "stream",
     "text": [
      "R-squared: 0.695295\n"
     ]
    }
   ],
   "source": [
    "from scipy import stats\n",
    "rng = np.random.default_rng()\n",
    "x = rng.random(10)\n",
    "y = 1.6*x + rng.random(10)\n",
    "res = stats.linregress(x, y)\n",
    "print(f\"R-squared: {res.rvalue**2:.6f}\")\n"
   ]
  },
  {
   "cell_type": "code",
   "execution_count": 89,
   "metadata": {},
   "outputs": [
    {
     "name": "stdout",
     "output_type": "stream",
     "text": [
      "0.4575\n"
     ]
    }
   ],
   "source": [
    "Y_test = [0.54,0.08,0.13]  \n",
    "Y_pred = [0.75,0.98,0.85]\n",
    "MSE = np.square(np.subtract(Y_test,Y_pred)).mean()\n",
    "print(MSE)"
   ]
  },
  {
   "cell_type": "code",
   "execution_count": 90,
   "metadata": {
    "scrolled": true
   },
   "outputs": [
    {
     "name": "stdout",
     "output_type": "stream",
     "text": [
      "0.6952954920853377\n"
     ]
    }
   ],
   "source": [
    "from scipy import stats\n",
    "def rsquared(x, y):\n",
    "    \"\"\" Return R^2 where x and y are array-like.\"\"\"\n",
    "slope, intercept, r_value, p_value, std_err = stats.linregress(x, y)\n",
    "print (r_value**2)"
   ]
  },
  {
   "cell_type": "code",
   "execution_count": 93,
   "metadata": {
    "scrolled": true
   },
   "outputs": [
    {
     "name": "stdout",
     "output_type": "stream",
     "text": [
      "r2_score: 0.9486081370449679\n",
      "r2_score weighted: 0.9573170731707317\n"
     ]
    },
    {
     "name": "stderr",
     "output_type": "stream",
     "text": [
      "/Users/andrewnelson/opt/anaconda3/lib/python3.8/site-packages/sklearn/utils/validation.py:70: FutureWarning: Pass sample_weight=[1, 5, 1, 2] as keyword args. From version 1.0 (renaming of 0.25) passing these as positional arguments will result in an error\n",
      "  warnings.warn(f\"Pass {args_msg} as keyword args. From version \"\n"
     ]
    }
   ],
   "source": [
    "from __future__ import print_function, division \n",
    "import sklearn.metrics \n",
    "\n",
    "def compute_r2_weighted(y_true, y_pred, weight):\n",
    "    sse = (weight * (y_true - y_pred) ** 2).sum(axis=0, dtype=np.float64)\n",
    "    tse = (weight * (y_true - np.average(\n",
    "        y_true, axis=0, weights=weight)) ** 2).sum(axis=0, dtype=np.float64)\n",
    "    r2_score = 1 - (sse / tse)\n",
    "    return r2_score, sse, tse    \n",
    "\n",
    "def compute_r2(y_true, y_predicted):\n",
    "    sse = sum((y_true - y_predicted)**2)\n",
    "    tse = (len(y_true) - 1) * np.var(y_true, ddof=1)\n",
    "    r2_score = 1 - (sse / tse)\n",
    "    return r2_score, sse, tse\n",
    "\n",
    "def main():\n",
    "    '''\n",
    "    Demonstrate the use of compute_r2_weighted() and checks the results against sklearn\n",
    "    '''        \n",
    "    y_true = [3, -0.5, 2, 7]\n",
    "    y_pred = [2.5, 0.0, 2, 8]\n",
    "    weight = [1, 5, 1, 2]\n",
    "    r2_score = sklearn.metrics.r2_score(y_true, y_pred)\n",
    "    print('r2_score: {0}'.format(r2_score))  \n",
    "    #r2_score,_,_ = compute_r2(np.array(y_true), np.array(y_pred))\n",
    "    #print('r2_score: {0}'.format(r2_score))\n",
    "    r2_score = sklearn.metrics.r2_score(y_true, y_pred,weight)\n",
    "    print('r2_score weighted: {0}'.format(r2_score))\n",
    "    #r2_score,_,_ = compute_r2_weighted(np.array(y_true), np.array(y_pred), np.array(weight))\n",
    "    #print('r2_score weighted: {0}'.format(r2_score))\n",
    "\n",
    "if __name__ == \"__main__\":\n",
    "    main()\n",
    "    #cProfile.run('main()') # if you want to do some profiling"
   ]
  },
  {
   "cell_type": "code",
   "execution_count": null,
   "metadata": {},
   "outputs": [],
   "source": []
  }
 ],
 "metadata": {
  "kernelspec": {
   "display_name": "Python 3",
   "language": "python",
   "name": "python3"
  },
  "language_info": {
   "codemirror_mode": {
    "name": "ipython",
    "version": 3
   },
   "file_extension": ".py",
   "mimetype": "text/x-python",
   "name": "python",
   "nbconvert_exporter": "python",
   "pygments_lexer": "ipython3",
   "version": "3.8.8"
  }
 },
 "nbformat": 4,
 "nbformat_minor": 2
}
